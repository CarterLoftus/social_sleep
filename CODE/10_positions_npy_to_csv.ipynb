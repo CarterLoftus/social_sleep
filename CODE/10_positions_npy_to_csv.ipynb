{
 "cells": [
  {
   "cell_type": "code",
   "execution_count": 1,
   "metadata": {},
   "outputs": [],
   "source": [
    "import pandas as pd, numpy as np, cv2, os, glob, matplotlib.pyplot as plt"
   ]
  },
  {
   "cell_type": "code",
   "execution_count": 2,
   "metadata": {},
   "outputs": [],
   "source": [
    "input_dir = 'C:/Users/meerkat/Documents/social_sleep/DATA/tracking_output/more_tracks_parameters/'"
   ]
  },
  {
   "cell_type": "code",
   "execution_count": 3,
   "metadata": {},
   "outputs": [],
   "source": [
    "os.chdir( input_dir )"
   ]
  },
  {
   "cell_type": "code",
   "execution_count": 4,
   "metadata": {},
   "outputs": [],
   "source": [
    "dirs_to_process = os.listdir()"
   ]
  },
  {
   "cell_type": "code",
   "execution_count": 5,
   "metadata": {},
   "outputs": [],
   "source": [
    "os.chdir( os.path.join( input_dir, dirs_to_process[ 0 ] ))"
   ]
  },
  {
   "cell_type": "code",
   "execution_count": 6,
   "metadata": {},
   "outputs": [],
   "source": [
    "positions_files = glob.glob( 'positions*.npy' )"
   ]
  },
  {
   "cell_type": "code",
   "execution_count": 7,
   "metadata": {},
   "outputs": [
    {
     "name": "stdout",
     "output_type": "stream",
     "text": [
      "20190731\n",
      "20190801\n",
      "20190802\n",
      "20190803\n",
      "20190804\n",
      "20190806\n",
      "20190807\n",
      "20190808\n",
      "20190809\n",
      "20190810\n",
      "20190811\n",
      "20190812\n",
      "20190813\n",
      "20190814\n",
      "20190815\n",
      "20190816\n",
      "20190817\n",
      "20190818\n",
      "20190819\n",
      "20190820\n",
      "20190821\n"
     ]
    }
   ],
   "source": [
    "for direc in dirs_to_process:\n",
    "    \n",
    "    print( direc )\n",
    "    \n",
    "    os.chdir( os.path.join( input_dir, direc ) )\n",
    "    \n",
    "    positions_files = glob.glob( 'positions*.npy' )\n",
    "    \n",
    "    for pos_file in positions_files:\n",
    "        \n",
    "        positions_filepath = os.path.join( input_dir, direc, pos_file )\n",
    "\n",
    "        positions = np.load( positions_filepath, allow_pickle = True )\n",
    "        \n",
    "        # make an dataframe with 0 rows\n",
    "        all_positions = pd.DataFrame({'frame':[],  'x':[],  'y':[] }) # start a dataframe that will be filled with all the location of all the tracks for the video\n",
    "        \n",
    "        # fill the dataframe by appending rows\n",
    "        for frame_num, pos_arr in enumerate( positions ):\n",
    "    \n",
    "            if pos_arr.shape[ 0 ] > 0:\n",
    "\n",
    "                to_append = pd.DataFrame( {'frame': pd.Series( [ frame_num ] * pos_arr.shape[ 0 ] ), 'x': pd.Series( pos_arr[:,0] ) ,  'y': pd.Series( pos_arr[:,1] ) } )    \n",
    "\n",
    "                all_positions = all_positions.append( to_append, ignore_index = True ) \n",
    "\n",
    "        vid_name  = positions_filepath.split( \"/\")[ -1 ].split( \"_\", 1 )[ 1 ].split( \".\" )[ 0 ]\n",
    "\n",
    "        all_positions[ 'vid_name' ] =  vid_name\n",
    "\n",
    "        all_positions = all_positions.astype( { 'frame': int, 'x': float, 'y': float, 'vid_name': str } )\n",
    "        \n",
    "        all_positions.to_csv( os.path.join( input_dir, direc, 'positions_' + vid_name + '.csv' ), index=False) # write the csv with all the tracks to a file\n"
   ]
  },
  {
   "cell_type": "code",
   "execution_count": null,
   "metadata": {},
   "outputs": [],
   "source": []
  }
 ],
 "metadata": {
  "kernelspec": {
   "display_name": "Python 3",
   "language": "python",
   "name": "python3"
  },
  "language_info": {
   "codemirror_mode": {
    "name": "ipython",
    "version": 3
   },
   "file_extension": ".py",
   "mimetype": "text/x-python",
   "name": "python",
   "nbconvert_exporter": "python",
   "pygments_lexer": "ipython3",
   "version": "3.8.5"
  }
 },
 "nbformat": 4,
 "nbformat_minor": 4
}
