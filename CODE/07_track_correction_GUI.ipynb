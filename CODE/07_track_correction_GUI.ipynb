{
 "cells": [
  {
   "cell_type": "code",
   "execution_count": 6,
   "metadata": {
    "scrolled": true
   },
   "outputs": [],
   "source": [
    "#import\n",
    "import cv2\n",
    "from TrackCorrectionGUI import TrackCorrectionGUI\n",
    "\n",
    "#SETUP\n",
    "\n",
    "## I need to start with track 4!\n",
    "\n",
    "# The yellow track is the focal track that is being corrected\n",
    "# The blue track is the other track that might be merged with \n",
    "# the focal track\n",
    "\n",
    "# KEY FUNCTIONS:\n",
    "# next frame = \"c\"\n",
    "# previous frame = \"y\"\n",
    "# advance 3 frames = \"d\"\n",
    "# go back 3 frames = \"a\"\n",
    "# advance 30 frames = \"e\"\n",
    "# go back 30 frames = \"q\"\n",
    "# advance 90 frames = \"3\"\n",
    "# go back 90 frames = \"1\"\n",
    "# advance 500 frames = \"6\"\n",
    "# go back 500 frames = \"5\"\n",
    "\n",
    "# go to frame at beginning of current possible merge track = \"b\"\n",
    "# go to frame at end of yellow (focal) track = \"g\"\n",
    "# next possible merge track = \"w\"\n",
    "# previous possible merge track = \"x\"\n",
    "# next focal track = \".\" (same button as '>')\n",
    "# previous focal track = \",\" (same button as '<')\n",
    "# add point to focal track = click anywhere on picture\n",
    "# merge focal track with current selected merge track = space bar\n",
    "# permanently remove focal track = \"ä\" \n",
    "\n",
    "# split focal track at current frame = \"k\"\n",
    "# split possible merge track at current frame = \"l\"\n",
    "\n",
    "# undo last action = \"u\"\n",
    "# hide tracks (so easier to see frame) = \"h\"\n",
    "\n",
    "# to add a new track = hold down the shift key and then click anywhere on the picture\n",
    "\n",
    "# add a point to a track WITHOUT linear interpolation = hold down the control key and click anywhere on the picture\n",
    "\n",
    "#THINGS FOR USER TO ADD:\n",
    "#file containing info about the tracks\n",
    "\n",
    "# The tracks file should be a list of dictionaries]\n",
    "# Each dictionary contains information about one track\n",
    "# The dictionary must have the key \"track\", \"first_frame\", \"last_frame\"\n",
    "# the key \"track\" returns an numpy array of shape (N, 2) where N is the length of the track in frames\n",
    "# each point in the track is in numpy array indexing so row, column from top left corner of image\n",
    "\n",
    "# The key \"first_frame\" returns the first frame number of the video the track appears\n",
    "# The key \"last_frame\" returns the last frame number of the video that the track appears\n",
    "\n",
    "\n",
    "tracks_file = 'C:/Users/meerkat/Documents/thermal_baboon/RESULTS/tracking_output/20190802/tracks_20190802_180507743000-final-final.npy'\n",
    "#tracks_file_demo = 'C:/Users/meerkat/Documents/thermal_baboon/CODE/manual_track_correction/demo-correction-tracks-xy.npy'\n",
    "    \n",
    "# Path to frames\n",
    "frames_folder = 'C:/Users/meerkat/Documents/thermal_baboon/DATA/frames_for_finalizing_Vilson_1/'\n",
    "    \n",
    "# how much you want to rescale the original frame resolution to display (and fit)on the screen    \n",
    "factor = 0.62"
   ]
  },
  {
   "cell_type": "code",
   "execution_count": 7,
   "metadata": {},
   "outputs": [],
   "source": [
    "import numpy as np\n",
    "\n",
    "tracks = np.load(tracks_file, allow_pickle=True)\n",
    "\n",
    "#tracks_demo = np.load(tracks_file_demo, allow_pickle=True)"
   ]
  },
  {
   "cell_type": "code",
   "execution_count": 8,
   "metadata": {},
   "outputs": [],
   "source": [
    "## tracks file correction\n",
    "\n",
    "for t in range( len( tracks ) ):\n",
    "    \n",
    "    tracks[ t ]['pos_index'] = tracks[ t ]['pos_index'].reshape( tracks[ t ]['pos_index'].shape[0], 1 )\n",
    "\n",
    "    \n",
    "np.save( tracks_file, tracks  )\n",
    "\n"
   ]
  },
  {
   "cell_type": "code",
   "execution_count": 9,
   "metadata": {},
   "outputs": [],
   "source": [
    "import glob\n",
    "import os\n",
    "\n",
    "frame_files = sorted(glob.glob(os.path.join(frames_folder, '*.jpg')))"
   ]
  },
  {
   "cell_type": "code",
   "execution_count": 10,
   "metadata": {},
   "outputs": [
    {
     "name": "stdout",
     "output_type": "stream",
     "text": [
      "saved at C:/Users/meerkat/Documents/thermal_baboon/RESULTS/tracking_output/20190802/tracks_20190802_180507743000-final-0.0.npy\n",
      "adding point\n",
      "saved at C:/Users/meerkat/Documents/thermal_baboon/RESULTS/tracking_output/20190802/tracks_20190802_180507743000-final-final.npy\n"
     ]
    }
   ],
   "source": [
    "#RUN\n",
    "\n",
    "#get good track, draw image on window, set mouse to work\n",
    "window = TrackCorrectionGUI(tracks_file, frame_files, factor, point_scale=1, xy_tracks=True)\n",
    "\n",
    "\n",
    "window.find_next_track()\n",
    "window.draw_window()\n",
    "cv2.namedWindow('pic0')\n",
    "cv2.setMouseCallback('pic0', window.clicked)\n",
    "\n",
    "#loop to keep image updating\n",
    "while True:\n",
    "    # exit when user presses esc key\n",
    "    key = cv2.waitKey(2) & 0xff \n",
    "    window.detect_keys(key)\n",
    "    if key == 27:\n",
    "        window.save('active')\n",
    "        break\n",
    "cv2.destroyAllWindows()"
   ]
  },
  {
   "cell_type": "markdown",
   "metadata": {},
   "source": [
    "##### len( frame_files )"
   ]
  },
  {
   "cell_type": "code",
   "execution_count": null,
   "metadata": {},
   "outputs": [],
   "source": []
  },
  {
   "cell_type": "code",
   "execution_count": null,
   "metadata": {},
   "outputs": [],
   "source": []
  }
 ],
 "metadata": {
  "kernelspec": {
   "display_name": "Python 3",
   "language": "python",
   "name": "python3"
  },
  "language_info": {
   "codemirror_mode": {
    "name": "ipython",
    "version": 3
   },
   "file_extension": ".py",
   "mimetype": "text/x-python",
   "name": "python",
   "nbconvert_exporter": "python",
   "pygments_lexer": "ipython3",
   "version": "3.8.5"
  }
 },
 "nbformat": 4,
 "nbformat_minor": 4
}
