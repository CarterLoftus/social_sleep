{
 "cells": [
  {
   "cell_type": "code",
   "execution_count": 1,
   "metadata": {},
   "outputs": [],
   "source": [
    "import os\n",
    "import pandas as pd\n",
    "import numpy as np\n",
    "import matplotlib.pyplot as plt\n",
    "import datetime as dt\n",
    "from sortedcontainers import SortedSet"
   ]
  },
  {
   "cell_type": "code",
   "execution_count": 2,
   "metadata": {},
   "outputs": [],
   "source": [
    "root = 'C:/Users/meerkat/'\n",
    "#root = 'C:/Users/cloftus/'\n",
    "\n"
   ]
  },
  {
   "cell_type": "code",
   "execution_count": 3,
   "metadata": {
    "scrolled": false
   },
   "outputs": [
    {
     "data": {
      "text/plain": [
       "['acc_dat.csv', 'gps_dat.csv', 'Papio Anubis Mpala 2019.csv']"
      ]
     },
     "execution_count": 3,
     "metadata": {},
     "output_type": "execute_result"
    }
   ],
   "source": [
    "os.chdir( root + \"Documents/social_sleep/DATA/gps_acc_data\" )\n",
    "os.listdir()"
   ]
  },
  {
   "cell_type": "markdown",
   "metadata": {},
   "source": [
    "Papio Anubis Mpala 2019 is the file downloaded directly from Movebank, downloaded with all sensor types"
   ]
  },
  {
   "cell_type": "code",
   "execution_count": 4,
   "metadata": {},
   "outputs": [
    {
     "name": "stderr",
     "output_type": "stream",
     "text": [
      "C:\\Users\\meerkat\\anaconda3\\lib\\site-packages\\IPython\\core\\interactiveshell.py:3146: DtypeWarning: Columns (7,9,18) have mixed types.Specify dtype option on import or set low_memory=False.\n",
      "  has_raised = await self.run_ast_nodes(code_ast.body, cell_name,\n"
     ]
    }
   ],
   "source": [
    "dat1 = pd.read_csv('Papio Anubis Mpala 2019.csv', header=0)"
   ]
  },
  {
   "cell_type": "markdown",
   "metadata": {},
   "source": [
    "Here we can see all the columns of the data. As expected, we have both GPS and accelerometry in this data set"
   ]
  },
  {
   "cell_type": "code",
   "execution_count": 5,
   "metadata": {},
   "outputs": [
    {
     "data": {
      "text/plain": [
       "['event-id',\n",
       " 'visible',\n",
       " 'timestamp',\n",
       " 'location-long',\n",
       " 'location-lat',\n",
       " 'bar:barometric-pressure',\n",
       " 'data-decoding-software',\n",
       " 'eobs:acceleration-axes',\n",
       " 'eobs:acceleration-sampling-frequency-per-axis',\n",
       " 'eobs:accelerations-raw',\n",
       " 'eobs:activity',\n",
       " 'eobs:activity-samples',\n",
       " 'eobs:battery-voltage',\n",
       " 'eobs:fix-battery-voltage',\n",
       " 'eobs:horizontal-accuracy-estimate',\n",
       " 'eobs:key-bin-checksum',\n",
       " 'eobs:speed-accuracy-estimate',\n",
       " 'eobs:start-timestamp',\n",
       " 'eobs:status',\n",
       " 'eobs:temperature',\n",
       " 'eobs:type-of-fix',\n",
       " 'eobs:used-time-to-get-fix',\n",
       " 'gps:dop',\n",
       " 'gps:satellite-count',\n",
       " 'ground-speed',\n",
       " 'heading',\n",
       " 'height-above-ellipsoid',\n",
       " 'import-marked-outlier',\n",
       " 'mag:magnetic-field-raw-x',\n",
       " 'mag:magnetic-field-raw-y',\n",
       " 'mag:magnetic-field-raw-z',\n",
       " 'orientation:quaternion-raw-w',\n",
       " 'orientation:quaternion-raw-x',\n",
       " 'orientation:quaternion-raw-y',\n",
       " 'orientation:quaternion-raw-z',\n",
       " 'sensor-type',\n",
       " 'individual-taxon-canonical-name',\n",
       " 'tag-local-identifier',\n",
       " 'individual-local-identifier',\n",
       " 'study-name']"
      ]
     },
     "execution_count": 5,
     "metadata": {},
     "output_type": "execute_result"
    }
   ],
   "source": [
    "list(dat1)"
   ]
  },
  {
   "cell_type": "markdown",
   "metadata": {},
   "source": [
    "trim the data set to just include the tag, timestamp, ACC sampling frequency, and ACC"
   ]
  },
  {
   "cell_type": "code",
   "execution_count": 6,
   "metadata": {},
   "outputs": [],
   "source": [
    "dat1 = dat1[ [ 'tag-local-identifier', 'timestamp', 'eobs:acceleration-sampling-frequency-per-axis',\n",
    " 'eobs:accelerations-raw'] ]"
   ]
  },
  {
   "cell_type": "code",
   "execution_count": 7,
   "metadata": {},
   "outputs": [
    {
     "data": {
      "text/html": [
       "<div>\n",
       "<style scoped>\n",
       "    .dataframe tbody tr th:only-of-type {\n",
       "        vertical-align: middle;\n",
       "    }\n",
       "\n",
       "    .dataframe tbody tr th {\n",
       "        vertical-align: top;\n",
       "    }\n",
       "\n",
       "    .dataframe thead th {\n",
       "        text-align: right;\n",
       "    }\n",
       "</style>\n",
       "<table border=\"1\" class=\"dataframe\">\n",
       "  <thead>\n",
       "    <tr style=\"text-align: right;\">\n",
       "      <th></th>\n",
       "      <th>tag-local-identifier</th>\n",
       "      <th>timestamp</th>\n",
       "      <th>eobs:acceleration-sampling-frequency-per-axis</th>\n",
       "      <th>eobs:accelerations-raw</th>\n",
       "    </tr>\n",
       "  </thead>\n",
       "  <tbody>\n",
       "    <tr>\n",
       "      <th>0</th>\n",
       "      <td>6903</td>\n",
       "      <td>2019-07-19 03:30:41.000</td>\n",
       "      <td>NaN</td>\n",
       "      <td>NaN</td>\n",
       "    </tr>\n",
       "    <tr>\n",
       "      <th>1</th>\n",
       "      <td>6903</td>\n",
       "      <td>2019-07-19 03:30:42.000</td>\n",
       "      <td>NaN</td>\n",
       "      <td>NaN</td>\n",
       "    </tr>\n",
       "    <tr>\n",
       "      <th>2</th>\n",
       "      <td>6903</td>\n",
       "      <td>2019-07-19 03:30:43.000</td>\n",
       "      <td>NaN</td>\n",
       "      <td>NaN</td>\n",
       "    </tr>\n",
       "    <tr>\n",
       "      <th>3</th>\n",
       "      <td>6903</td>\n",
       "      <td>2019-07-19 03:30:44.000</td>\n",
       "      <td>NaN</td>\n",
       "      <td>NaN</td>\n",
       "    </tr>\n",
       "    <tr>\n",
       "      <th>4</th>\n",
       "      <td>6903</td>\n",
       "      <td>2019-07-19 03:30:45.000</td>\n",
       "      <td>NaN</td>\n",
       "      <td>NaN</td>\n",
       "    </tr>\n",
       "  </tbody>\n",
       "</table>\n",
       "</div>"
      ],
      "text/plain": [
       "   tag-local-identifier                timestamp  \\\n",
       "0                  6903  2019-07-19 03:30:41.000   \n",
       "1                  6903  2019-07-19 03:30:42.000   \n",
       "2                  6903  2019-07-19 03:30:43.000   \n",
       "3                  6903  2019-07-19 03:30:44.000   \n",
       "4                  6903  2019-07-19 03:30:45.000   \n",
       "\n",
       "   eobs:acceleration-sampling-frequency-per-axis eobs:accelerations-raw  \n",
       "0                                            NaN                    NaN  \n",
       "1                                            NaN                    NaN  \n",
       "2                                            NaN                    NaN  \n",
       "3                                            NaN                    NaN  \n",
       "4                                            NaN                    NaN  "
      ]
     },
     "execution_count": 7,
     "metadata": {},
     "output_type": "execute_result"
    }
   ],
   "source": [
    "dat1.head()"
   ]
  },
  {
   "cell_type": "code",
   "execution_count": 8,
   "metadata": {},
   "outputs": [],
   "source": [
    "# turn the timestamp into a datetime element\n",
    "dat1[ 'timestamp' ] = pd.to_datetime( dat1[ 'timestamp' ] )\n",
    "\n",
    "#dat1 = dat1.sort_values( by = ['tag-local-identifier', 'timestamp'] )"
   ]
  },
  {
   "cell_type": "code",
   "execution_count": 9,
   "metadata": {},
   "outputs": [],
   "source": [
    "# rename the columns\n",
    "dat1 = dat1.rename( columns = {'tag-local-identifier': 'tag', 'eobs:acceleration-sampling-frequency-per-axis': 'samp_freq', 'eobs:accelerations-raw': 'acc'} )"
   ]
  },
  {
   "cell_type": "code",
   "execution_count": 10,
   "metadata": {},
   "outputs": [],
   "source": [
    "# remove the rows that are missing the ACC data\n",
    "dat1 = dat1.dropna()"
   ]
  },
  {
   "cell_type": "code",
   "execution_count": 11,
   "metadata": {},
   "outputs": [
    {
     "data": {
      "text/plain": [
       "{12.0, 20.0, 56.23}"
      ]
     },
     "execution_count": 11,
     "metadata": {},
     "output_type": "execute_result"
    }
   ],
   "source": [
    "# check the different sampling frequencies that are present in the data set\n",
    "set( dat1[ 'samp_freq' ])"
   ]
  },
  {
   "cell_type": "code",
   "execution_count": 12,
   "metadata": {},
   "outputs": [
    {
     "data": {
      "text/plain": [
       "31"
      ]
     },
     "execution_count": 12,
     "metadata": {},
     "output_type": "execute_result"
    }
   ],
   "source": [
    "## see how many unique days of data there are\n",
    "len ( set( dat1[ 'timestamp' ].dt.date ) )"
   ]
  },
  {
   "cell_type": "code",
   "execution_count": 13,
   "metadata": {},
   "outputs": [],
   "source": [
    "## change the directory to the DATA folder of the social_sleep repository\n",
    "os.makedirs( root + \"Documents/social_sleep/DATA/sleep_analysis_data/\", exist_ok = True )\n",
    "\n",
    "os.chdir( root + \"Documents/social_sleep/DATA/sleep_analysis_data/\" )"
   ]
  },
  {
   "cell_type": "code",
   "execution_count": 14,
   "metadata": {},
   "outputs": [],
   "source": [
    "## save the acc data \n",
    "dat1.to_csv(\"acc_all_trim.csv\", index = False)"
   ]
  },
  {
   "cell_type": "code",
   "execution_count": 15,
   "metadata": {},
   "outputs": [],
   "source": [
    "## make the tag column into class string\n",
    "dat1[ 'tag' ] = dat1[ 'tag' ].map( str )"
   ]
  },
  {
   "cell_type": "code",
   "execution_count": 16,
   "metadata": {},
   "outputs": [],
   "source": [
    "# turn the timestamp into a datetime element\n",
    "dat1[ 'timestamp' ] = pd.to_datetime( dat1[ 'timestamp' ] )\n"
   ]
  },
  {
   "cell_type": "code",
   "execution_count": 17,
   "metadata": {},
   "outputs": [],
   "source": [
    "# we want to see how many ACC measurements each row has. We will loop through every row of the dataset and measure how many individual measurements of ACC each row has\n",
    "\n",
    "fixes = list( map( lambda x: len( x.split( ' ' ) ), dat1[ 'acc' ] ) )\n"
   ]
  },
  {
   "cell_type": "code",
   "execution_count": 18,
   "metadata": {},
   "outputs": [
    {
     "data": {
      "text/plain": [
       "{36, 120}"
      ]
     },
     "execution_count": 18,
     "metadata": {},
     "output_type": "execute_result"
    }
   ],
   "source": [
    "set( fixes ) ## gives the different number of ACC measurements collected on each row. To determine the sampling rate, we would divide these by 3 (because there are three axes) and by the duration of the sampling on each row"
   ]
  },
  {
   "cell_type": "code",
   "execution_count": 19,
   "metadata": {},
   "outputs": [
    {
     "data": {
      "text/plain": [
       "(array([9262769.,       0.,       0.,       0.,       0.,       0.,\n",
       "              0.,       0.,       0.,  636158.]),\n",
       " array([ 36. ,  44.4,  52.8,  61.2,  69.6,  78. ,  86.4,  94.8, 103.2,\n",
       "        111.6, 120. ]),\n",
       " <BarContainer object of 10 artists>)"
      ]
     },
     "execution_count": 19,
     "metadata": {},
     "output_type": "execute_result"
    },
    {
     "data": {
      "image/png": "[encoded data removed]",
      "text/plain": [
       "<Figure size 432x288 with 1 Axes>"
      ]
     },
     "metadata": {
      "needs_background": "light"
     },
     "output_type": "display_data"
    }
   ],
   "source": [
    "plt.hist( fixes ) # most of the rows have 36 ACC measurements. This is the continuous ACC taken during the day which is taken at 12 Hz/axis. Each row represents one second\n",
    "# the rest of the rows have 120 ACC measurements. These are the bursts that are taken every minute on the minute during the night. There are 40 measurements per axis, collected for the duration of slightly less than a second (because they are collected at about 55 Hz) for the 2000s collars and for the 6000s collars, they are 40 measurements per axis taken for 2 seconds (because they are collected at 20 Hz) "
   ]
  },
  {
   "cell_type": "markdown",
   "metadata": {},
   "source": [
    "To match the sampling rate across the data, I downsample and interpolated the data to decrease to a sampling rate of 12 Hz. This interpolation is below. I don't need to interpolate beyond seven-tenths beyond the second, because the nighttime bursts only last for seven-tenths of a second, and the daytime data will be made to match the night-time data, so better to remove everything after seven-tenths of a second now"
   ]
  },
  {
   "cell_type": "code",
   "execution_count": 20,
   "metadata": {},
   "outputs": [],
   "source": [
    "hz_12 = np.linspace( 0, 1, 13 )\n",
    "hz_55 = np.linspace( 0, 0.711, 40 )\n",
    "hz_20 = np.linspace( 0, 2, 41 )"
   ]
  },
  {
   "cell_type": "code",
   "execution_count": 21,
   "metadata": {},
   "outputs": [
    {
     "data": {
      "text/plain": [
       "array([0.  , 0.05, 0.1 , 0.15, 0.2 , 0.25, 0.3 , 0.35, 0.4 , 0.45, 0.5 ,\n",
       "       0.55, 0.6 , 0.65, 0.7 , 0.75, 0.8 , 0.85, 0.9 , 0.95, 1.  , 1.05,\n",
       "       1.1 , 1.15, 1.2 , 1.25, 1.3 , 1.35, 1.4 , 1.45, 1.5 , 1.55, 1.6 ,\n",
       "       1.65, 1.7 , 1.75, 1.8 , 1.85, 1.9 , 1.95, 2.  ])"
      ]
     },
     "execution_count": 21,
     "metadata": {},
     "output_type": "execute_result"
    }
   ],
   "source": [
    "hz_20"
   ]
  },
  {
   "cell_type": "code",
   "execution_count": 22,
   "metadata": {},
   "outputs": [
    {
     "data": {
      "text/plain": [
       "array([0.        , 0.08333333, 0.16666667, 0.25      , 0.33333333,\n",
       "       0.41666667, 0.5       , 0.58333333, 0.66666667, 0.75      ,\n",
       "       0.83333333, 0.91666667, 1.        ])"
      ]
     },
     "execution_count": 22,
     "metadata": {},
     "output_type": "execute_result"
    }
   ],
   "source": [
    "hz_12"
   ]
  },
  {
   "cell_type": "code",
   "execution_count": 23,
   "metadata": {},
   "outputs": [
    {
     "data": {
      "text/plain": [
       "array([0.        , 0.01823077, 0.03646154, 0.05469231, 0.07292308,\n",
       "       0.09115385, 0.10938462, 0.12761538, 0.14584615, 0.16407692,\n",
       "       0.18230769, 0.20053846, 0.21876923, 0.237     , 0.25523077,\n",
       "       0.27346154, 0.29169231, 0.30992308, 0.32815385, 0.34638462,\n",
       "       0.36461538, 0.38284615, 0.40107692, 0.41930769, 0.43753846,\n",
       "       0.45576923, 0.474     , 0.49223077, 0.51046154, 0.52869231,\n",
       "       0.54692308, 0.56515385, 0.58338462, 0.60161538, 0.61984615,\n",
       "       0.63807692, 0.65630769, 0.67453846, 0.69276923, 0.711     ])"
      ]
     },
     "execution_count": 23,
     "metadata": {},
     "output_type": "execute_result"
    }
   ],
   "source": [
    "hz_55"
   ]
  },
  {
   "cell_type": "code",
   "execution_count": 24,
   "metadata": {},
   "outputs": [
    {
     "name": "stdout",
     "output_type": "stream",
     "text": [
      "0.0\n",
      "0.0101021050059264\n",
      "0.0202042100118528\n",
      "0.0303063150177792\n",
      "0.0404084200237056\n",
      "0.050510525029632\n",
      "0.0606126300355584\n",
      "0.0707147350414848\n",
      "0.0808168400474112\n",
      "0.0909189450533376\n",
      "0.101021050059264\n",
      "0.1111231550651904\n",
      "0.1212252600711168\n",
      "0.1313273650770432\n",
      "0.1414294700829696\n",
      "0.151531575088896\n",
      "0.1616336800948224\n",
      "0.1717357851007488\n",
      "0.1818378901066752\n",
      "0.1919399951126016\n",
      "0.202042100118528\n",
      "0.2121442051244544\n",
      "0.2222463101303808\n",
      "0.2323484151363072\n",
      "0.2424505201422336\n",
      "0.25255262514816\n",
      "0.2626547301540864\n",
      "0.2727568351600128\n",
      "0.2828589401659392\n",
      "0.2929610451718656\n",
      "0.303063150177792\n",
      "0.3131652551837184\n",
      "0.3232673601896448\n",
      "0.3333694651955712\n",
      "0.3434715702014976\n",
      "0.353573675207424\n",
      "0.3636757802133504\n",
      "0.3737778852192768\n",
      "0.3838799902252032\n",
      "0.3939820952311296\n",
      "0.404084200237056\n",
      "0.4141863052429824\n",
      "0.4242884102489088\n",
      "0.4343905152548352\n",
      "0.4444926202607616\n",
      "0.454594725266688\n",
      "0.4646968302726144\n",
      "0.4747989352785408\n",
      "0.4849010402844672\n",
      "0.4950031452903936\n",
      "0.50510525029632\n",
      "0.5152073553022464\n",
      "0.5253094603081728\n",
      "0.5354115653140992\n",
      "0.5455136703200256\n",
      "0.555615775325952\n",
      "0.5657178803318784\n",
      "0.5758199853378048\n",
      "0.5859220903437312\n",
      "0.5960241953496576\n",
      "0.606126300355584\n",
      "0.6162284053615104\n",
      "0.6263305103674368\n",
      "0.6364326153733632\n",
      "0.6465347203792896\n",
      "0.656636825385216\n",
      "0.6667389303911424\n",
      "0.6768410353970687\n",
      "0.6869431404029952\n",
      "0.6970452454089215\n",
      "0.707147350414848\n",
      "0.7172494554207743\n",
      "0.7273515604267008\n",
      "0.7374536654326272\n",
      "0.7475557704385536\n",
      "0.75765787544448\n",
      "0.7677599804504064\n",
      "0.7778620854563328\n",
      "0.7879641904622592\n",
      "0.7980662954681856\n",
      "0.808168400474112\n",
      "0.8182705054800384\n",
      "0.8283726104859648\n",
      "0.8384747154918912\n",
      "0.8485768204978176\n",
      "0.858678925503744\n",
      "0.8687810305096704\n",
      "0.8788831355155968\n",
      "0.8889852405215232\n",
      "0.8990873455274496\n",
      "0.909189450533376\n",
      "0.9192915555393024\n",
      "0.9293936605452288\n",
      "0.9394957655511552\n",
      "0.9495978705570816\n",
      "0.959699975563008\n",
      "0.9698020805689344\n",
      "0.9799041855748608\n",
      "0.9900062905807872\n"
     ]
    }
   ],
   "source": [
    "final_tag_col = []\n",
    "final_timestamp_col = []\n",
    "final_samp_freq_col = []\n",
    "final_acc_col = []\n",
    "\n",
    "for i in range( dat1.shape[0]):\n",
    "    \n",
    "    if dat1.iloc[ i, 2 ] == 56.23:\n",
    "        \n",
    "        xyz = dat1.iloc[i, 3].split( ' ' )\n",
    "\n",
    "        x = xyz[0::3]\n",
    "        y = xyz[1::3]\n",
    "        z = xyz[2::3]\n",
    "\n",
    "        new_x = [ int(x[0]) ]\n",
    "        new_y = [ int(y[0]) ]\n",
    "        new_z = [ int(z[0]) ]\n",
    "\n",
    "        new_x.append( np.average( [ int( x[4]) , int( x[5] ) ], weights = [ (hz_55[5] - hz_12[1] ) , ( hz_12[1] - hz_55[4] ) ] ) )\n",
    "        new_x.append( np.average( [ int( x[9]) , int( x[10] ) ], weights = [ (hz_55[10] - hz_12[2] ) , ( hz_12[2] - hz_55[9] ) ] ) )\n",
    "        new_x.append( np.average( [ int( x[13]) , int( x[14] ) ], weights = [ (hz_55[14] - hz_12[3] ) , ( hz_12[3] - hz_55[13] ) ] ) )\n",
    "        new_x.append( np.average( [ int( x[18]) , int( x[19] ) ], weights = [ (hz_55[19] - hz_12[4] ) , ( hz_12[4] - hz_55[18] ) ] ) )\n",
    "        new_x.append( np.average( [ int( x[22]) , int( x[23] ) ], weights = [ (hz_55[23] - hz_12[5] ) , ( hz_12[5] - hz_55[22] ) ] ) )\n",
    "        new_x.append( np.average( [ int( x[27]) , int( x[28] ) ], weights = [ (hz_55[28] - hz_12[6] ) , ( hz_12[6] - hz_55[27] ) ] ) )\n",
    "        new_x.append( np.average( [ int( x[31]) , int( x[32] ) ], weights = [ (hz_55[32] - hz_12[7] ) , ( hz_12[7] - hz_55[31] ) ] ) )\n",
    "        new_x.append( np.average( [ int( x[36]) , int( x[37] ) ], weights = [ (hz_55[37] - hz_12[8] ) , ( hz_12[8] - hz_55[36] ) ] ) )\n",
    "\n",
    "        new_y.append( np.average( [ int( y[4]) , int( y[5] ) ], weights = [ (hz_55[5] - hz_12[1] ) , ( hz_12[1] - hz_55[4] ) ] ) )\n",
    "        new_y.append( np.average( [ int( y[9]) , int( y[10] ) ], weights = [ (hz_55[10] - hz_12[2] ) , ( hz_12[2] - hz_55[9] ) ] ) )\n",
    "        new_y.append( np.average( [ int( y[13]) , int( y[14] ) ], weights = [ (hz_55[14] - hz_12[3] ) , ( hz_12[3] - hz_55[13] ) ] ) )\n",
    "        new_y.append( np.average( [ int( y[18]) , int( y[19] ) ], weights = [ (hz_55[19] - hz_12[4] ) , ( hz_12[4] - hz_55[18] ) ] ) )\n",
    "        new_y.append( np.average( [ int( y[22]) , int( y[23] ) ], weights = [ (hz_55[23] - hz_12[5] ) , ( hz_12[5] - hz_55[22] ) ] ) )\n",
    "        new_y.append( np.average( [ int( y[27]) , int( y[28] ) ], weights = [ (hz_55[28] - hz_12[6] ) , ( hz_12[6] - hz_55[27] ) ] ) )\n",
    "        new_y.append( np.average( [ int( y[31]) , int( y[32] ) ], weights = [ (hz_55[32] - hz_12[7] ) , ( hz_12[7] - hz_55[31] ) ] ) )\n",
    "        new_y.append( np.average( [ int( y[36]) , int( y[37] ) ], weights = [ (hz_55[37] - hz_12[8] ) , ( hz_12[8] - hz_55[36] ) ] ) )\n",
    "\n",
    "        new_z.append( np.average( [ int( z[4]) , int( z[5] ) ], weights = [ (hz_55[5] - hz_12[1] ) , ( hz_12[1] - hz_55[4] ) ] ) )\n",
    "        new_z.append( np.average( [ int( z[9]) , int( z[10] ) ], weights = [ (hz_55[10] - hz_12[2] ) , ( hz_12[2] - hz_55[9] ) ] ) )\n",
    "        new_z.append( np.average( [ int( z[13]) , int( z[14] ) ], weights = [ (hz_55[14] - hz_12[3] ) , ( hz_12[3] - hz_55[13] ) ] ) )\n",
    "        new_z.append( np.average( [ int( z[18]) , int( z[19] ) ], weights = [ (hz_55[19] - hz_12[4] ) , ( hz_12[4] - hz_55[18] ) ] ) )\n",
    "        new_z.append( np.average( [ int( z[22]) , int( z[23] ) ], weights = [ (hz_55[23] - hz_12[5] ) , ( hz_12[5] - hz_55[22] ) ] ) )\n",
    "        new_z.append( np.average( [ int( z[27]) , int( z[28] ) ], weights = [ (hz_55[28] - hz_12[6] ) , ( hz_12[6] - hz_55[27] ) ] ) )\n",
    "        new_z.append( np.average( [ int( z[31]) , int( z[32] ) ], weights = [ (hz_55[32] - hz_12[7] ) , ( hz_12[7] - hz_55[31] ) ] ) )\n",
    "        new_z.append( np.average( [ int( z[36]) , int( z[37] ) ], weights = [ (hz_55[37] - hz_12[8] ) , ( hz_12[8] - hz_55[36] ) ] ) )\n",
    "      \n",
    "        full_acc = [ [ m, n, p ]  for m, n, p in zip( new_x , new_y, new_z )]\n",
    "\n",
    "        new_xyz = []\n",
    "        for sublist in full_acc:\n",
    "            for item in sublist:\n",
    "                new_xyz.append(item)\n",
    "\n",
    "        new_xyz = list( map( str, new_xyz ))\n",
    "        final_xyz = ' '.join(new_xyz)\n",
    "\n",
    "        final_tag_col.append( dat1.iloc[ i, 0 ] )\n",
    "        final_timestamp_col.append( dat1.iloc[ i, 1 ] )\n",
    "        final_samp_freq_col.append( dat1.iloc[ i, 2 ] )\n",
    "\n",
    "        final_acc_col.append( final_xyz )\n",
    "\n",
    "    else:\n",
    "        \n",
    "        if dat1.iloc[ i, 2 ] == 20:\n",
    "            \n",
    "\n",
    "            xyz = dat1.iloc[i, 3].split( ' ' )\n",
    "\n",
    "            x = xyz[0::3]\n",
    "            y = xyz[1::3]\n",
    "            z = xyz[2::3]\n",
    "\n",
    "            new_x = [ int(x[0]) ]\n",
    "            new_y = [ int(y[0]) ]\n",
    "            new_z = [ int(z[0]) ]\n",
    "\n",
    "            new_x.append( np.average( [ int( x[1]) , int( x[2] ) ], weights = [ (hz_20[2] - hz_12[1] ) , ( hz_12[1] - hz_20[1] ) ] ) )\n",
    "            new_x.append( np.average( [ int( x[3]) , int( x[4] ) ], weights = [ (hz_20[4] - hz_12[2] ) , ( hz_12[2] - hz_20[3] ) ] ) )\n",
    "            new_x.append( int( x[5] ) )\n",
    "            new_x.append( np.average( [ int( x[6]) , int( x[7] ) ], weights = [ (hz_20[7] - hz_12[4] ) , ( hz_12[4] - hz_20[6] ) ] ) )\n",
    "            new_x.append( np.average( [ int( x[8]) , int( x[9] ) ], weights = [ (hz_20[9] - hz_12[5] ) , ( hz_12[5] - hz_20[8] ) ] ) )\n",
    "            new_x.append( int( x[10] ) )\n",
    "            new_x.append( np.average( [ int( x[11]) , int( x[12] ) ], weights = [ (hz_20[12] - hz_12[7] ) , ( hz_12[7] - hz_20[11] ) ] ) )\n",
    "            new_x.append( np.average( [ int( x[13]) , int( x[14] ) ], weights = [ (hz_20[14] - hz_12[8] ) , ( hz_12[8] - hz_20[13] ) ] ) )\n",
    "\n",
    "            new_y.append( np.average( [ int( y[1]) , int( y[2] ) ], weights = [ (hz_20[2] - hz_12[1] ) , ( hz_12[1] - hz_20[1] ) ] ) )\n",
    "            new_y.append( np.average( [ int( y[3]) , int( y[4] ) ], weights = [ (hz_20[4] - hz_12[2] ) , ( hz_12[2] - hz_20[3] ) ] ) )\n",
    "            new_y.append( int( y[5] ) )\n",
    "            new_y.append( np.average( [ int( y[6]) , int( y[7] ) ], weights = [ (hz_20[7] - hz_12[4] ) , ( hz_12[4] - hz_20[6] ) ] ) )\n",
    "            new_y.append( np.average( [ int( y[8]) , int( y[9] ) ], weights = [ (hz_20[9] - hz_12[5] ) , ( hz_12[5] - hz_20[8] ) ] ) )\n",
    "            new_y.append( int( y[10] ) )\n",
    "            new_y.append( np.average( [ int( y[11]) , int( y[12] ) ], weights = [ (hz_20[12] - hz_12[7] ) , ( hz_12[7] - hz_20[11] ) ] ) )\n",
    "            new_y.append( np.average( [ int( y[13]) , int( y[14] ) ], weights = [ (hz_20[14] - hz_12[8] ) , ( hz_12[8] - hz_20[13] ) ] ) )\n",
    "\n",
    "            new_z.append( np.average( [ int( z[1]) , int( z[2] ) ], weights = [ (hz_20[2] - hz_12[1] ) , ( hz_12[1] - hz_20[1] ) ] ) )\n",
    "            new_z.append( np.average( [ int( z[3]) , int( z[4] ) ], weights = [ (hz_20[4] - hz_12[2] ) , ( hz_12[2] - hz_20[3] ) ] ) )\n",
    "            new_z.append( int( z[5] ) )\n",
    "            new_z.append( np.average( [ int( z[6]) , int( z[7] ) ], weights = [ (hz_20[7] - hz_12[4] ) , ( hz_12[4] - hz_20[6] ) ] ) )\n",
    "            new_z.append( np.average( [ int( z[8]) , int( z[9] ) ], weights = [ (hz_20[9] - hz_12[5] ) , ( hz_12[5] - hz_20[8] ) ] ) )\n",
    "            new_z.append( int( z[10] ) )\n",
    "            new_z.append( np.average( [ int( z[11]) , int( z[12] ) ], weights = [ (hz_20[12] - hz_12[7] ) , ( hz_12[7] - hz_20[11] ) ] ) )\n",
    "            new_z.append( np.average( [ int( z[13]) , int( z[14] ) ], weights = [ (hz_20[14] - hz_12[8] ) , ( hz_12[8] - hz_20[13] ) ] ) )\n",
    "\n",
    "            full_acc = [ [ m, n, p ]  for m, n, p in zip( new_x , new_y, new_z )]\n",
    "\n",
    "            new_xyz = []\n",
    "            for sublist in full_acc:\n",
    "                for item in sublist:\n",
    "                    new_xyz.append(item)\n",
    "\n",
    "            new_xyz = list( map( str, new_xyz ))\n",
    "            final_xyz = ' '.join(new_xyz)\n",
    "\n",
    "            final_tag_col.append( dat1.iloc[ i, 0 ] )\n",
    "            final_timestamp_col.append( dat1.iloc[ i, 1 ] )\n",
    "            final_samp_freq_col.append( dat1.iloc[ i, 2 ] )\n",
    "\n",
    "            final_acc_col.append( final_xyz )\n",
    "\n",
    "            \n",
    "            new_x = [ int(x[20]) ]\n",
    "            new_y = [ int(y[20]) ]\n",
    "            new_z = [ int(z[20]) ]\n",
    "\n",
    "            new_x.append( np.average( [ int( x[21]) , int( x[22] ) ], weights = [ (hz_20[2] - hz_12[1] ) , ( hz_12[1] - hz_20[1] ) ] ) )\n",
    "            new_x.append( np.average( [ int( x[23]) , int( x[24] ) ], weights = [ (hz_20[4] - hz_12[2] ) , ( hz_12[2] - hz_20[3] ) ] ) )\n",
    "            new_x.append( int( x[25] ) )\n",
    "            new_x.append( np.average( [ int( x[26]) , int( x[27] ) ], weights = [ (hz_20[7] - hz_12[4] ) , ( hz_12[4] - hz_20[6] ) ] ) )\n",
    "            new_x.append( np.average( [ int( x[28]) , int( x[29] ) ], weights = [ (hz_20[9] - hz_12[5] ) , ( hz_12[5] - hz_20[8] ) ] ) )\n",
    "            new_x.append( int( x[30] ) )\n",
    "            new_x.append( np.average( [ int( x[31]) , int( x[32] ) ], weights = [ (hz_20[12] - hz_12[7] ) , ( hz_12[7] - hz_20[11] ) ] ) )\n",
    "            new_x.append( np.average( [ int( x[33]) , int( x[34] ) ], weights = [ (hz_20[14] - hz_12[8] ) , ( hz_12[8] - hz_20[13] ) ] ) )\n",
    "\n",
    "            new_y.append( np.average( [ int( y[21]) , int( y[22] ) ], weights = [ (hz_20[2] - hz_12[1] ) , ( hz_12[1] - hz_20[1] ) ] ) )\n",
    "            new_y.append( np.average( [ int( y[23]) , int( y[24] ) ], weights = [ (hz_20[4] - hz_12[2] ) , ( hz_12[2] - hz_20[3] ) ] ) )\n",
    "            new_y.append( int( y[25] ) )\n",
    "            new_y.append( np.average( [ int( y[26]) , int( y[27] ) ], weights = [ (hz_20[7] - hz_12[4] ) , ( hz_12[4] - hz_20[6] ) ] ) )\n",
    "            new_y.append( np.average( [ int( y[28]) , int( y[29] ) ], weights = [ (hz_20[9] - hz_12[5] ) , ( hz_12[5] - hz_20[8] ) ] ) )\n",
    "            new_y.append( int( y[30] ) )\n",
    "            new_y.append( np.average( [ int( y[31]) , int( y[32] ) ], weights = [ (hz_20[12] - hz_12[7] ) , ( hz_12[7] - hz_20[11] ) ] ) )\n",
    "            new_y.append( np.average( [ int( y[33]) , int( y[34] ) ], weights = [ (hz_20[14] - hz_12[8] ) , ( hz_12[8] - hz_20[13] ) ] ) )\n",
    "\n",
    "            new_z.append( np.average( [ int( z[21]) , int( z[22] ) ], weights = [ (hz_20[2] - hz_12[1] ) , ( hz_12[1] - hz_20[1] ) ] ) )\n",
    "            new_z.append( np.average( [ int( z[23]) , int( z[24] ) ], weights = [ (hz_20[4] - hz_12[2] ) , ( hz_12[2] - hz_20[3] ) ] ) )\n",
    "            new_z.append( int( z[25] ) )\n",
    "            new_z.append( np.average( [ int( z[26]) , int( z[27] ) ], weights = [ (hz_20[7] - hz_12[4] ) , ( hz_12[4] - hz_20[6] ) ] ) )\n",
    "            new_z.append( np.average( [ int( z[28]) , int( z[29] ) ], weights = [ (hz_20[9] - hz_12[5] ) , ( hz_12[5] - hz_20[8] ) ] ) )\n",
    "            new_z.append( int( z[30] ) )\n",
    "            new_z.append( np.average( [ int( z[31]) , int( z[32] ) ], weights = [ (hz_20[12] - hz_12[7] ) , ( hz_12[7] - hz_20[11] ) ] ) )\n",
    "            new_z.append( np.average( [ int( z[33]) , int( z[34] ) ], weights = [ (hz_20[14] - hz_12[8] ) , ( hz_12[8] - hz_20[13] ) ] ) )\n",
    "\n",
    "            full_acc = [ [ m, n, p ]  for m, n, p in zip( new_x , new_y, new_z )]\n",
    "\n",
    "            new_xyz = []\n",
    "            for sublist in full_acc:\n",
    "                for item in sublist:\n",
    "                    new_xyz.append(item)\n",
    "\n",
    "            new_xyz = list( map( str, new_xyz ) )\n",
    "            final_xyz = ' '.join(new_xyz)\n",
    "\n",
    "            final_tag_col.append( dat1.iloc[ i, 0 ] )\n",
    "            final_timestamp_col.append( dat1.iloc[ i, 1 ] + dt.timedelta( seconds = 1 ) )\n",
    "            final_samp_freq_col.append( dat1.iloc[ i, 2 ] )\n",
    "\n",
    "            final_acc_col.append( final_xyz )\n",
    "\n",
    "        else:\n",
    "            \n",
    "            if dat1.iloc[ i, 2 ] == 12:\n",
    "                \n",
    "                xyz = dat1.iloc[i, 3].split( ' ' )\n",
    "\n",
    "                x = xyz[0::3]\n",
    "                y = xyz[1::3]\n",
    "                z = xyz[2::3]\n",
    "\n",
    "                new_x = x[:9]\n",
    "                new_y = y[:9]\n",
    "                new_z = z[:9]\n",
    "\n",
    "                full_acc = [ [ m, n, p ]  for m, n, p in zip( new_x , new_y, new_z )]\n",
    "\n",
    "                new_xyz = []\n",
    "                for sublist in full_acc:\n",
    "                    for item in sublist:\n",
    "                        new_xyz.append(item)\n",
    "\n",
    "                new_xyz = list( map( str, new_xyz ))\n",
    "                final_xyz = ' '.join(new_xyz)\n",
    "\n",
    "                final_tag_col.append( dat1.iloc[ i, 0 ] )\n",
    "                final_timestamp_col.append( dat1.iloc[ i, 1 ] )\n",
    "                final_samp_freq_col.append( dat1.iloc[ i, 2 ] )\n",
    "\n",
    "                final_acc_col.append( final_xyz )\n",
    "\n",
    "            else:\n",
    "                \n",
    "                problemoooo\n",
    "           \n",
    "    if (i % 100000) == 0:\n",
    "        \n",
    "        print( i / dat1.shape[ 0 ], flush = True )\n",
    "\n",
    "            \n",
    "    "
   ]
  },
  {
   "cell_type": "code",
   "execution_count": 25,
   "metadata": {},
   "outputs": [],
   "source": [
    "dat = pd.DataFrame( { 'tag' : final_tag_col, 'timestamp': final_timestamp_col, 'samp_freq': final_samp_freq_col, 'acc_interp': final_acc_col } )"
   ]
  },
  {
   "cell_type": "code",
   "execution_count": 26,
   "metadata": {},
   "outputs": [
    {
     "data": {
      "text/plain": [
       "['tag', 'timestamp', 'samp_freq', 'acc_interp']"
      ]
     },
     "execution_count": 26,
     "metadata": {},
     "output_type": "execute_result"
    }
   ],
   "source": [
    "list( dat )"
   ]
  },
  {
   "cell_type": "code",
   "execution_count": 27,
   "metadata": {},
   "outputs": [
    {
     "data": {
      "text/plain": [
       "{27}"
      ]
     },
     "execution_count": 27,
     "metadata": {},
     "output_type": "execute_result"
    }
   ],
   "source": [
    "## see how many ACC measurements are in each second for the downsampled and interpolated ACC. We should have 9 measurements per axis per second (12 Hz sampling rate for 0.71 seconds)\n",
    "set( list( map( lambda x: len( x.split( ' ' ) ), dat.iloc[ :, 3 ] ) ) )"
   ]
  },
  {
   "cell_type": "code",
   "execution_count": 28,
   "metadata": {},
   "outputs": [],
   "source": [
    "# make the timestamp the index. This makes it easier to subset by the timestamp\n",
    "dat.set_index( 'timestamp', inplace = True )"
   ]
  },
  {
   "cell_type": "code",
   "execution_count": 29,
   "metadata": {},
   "outputs": [],
   "source": [
    "# save the tag names\n",
    "tag_names = SortedSet( dat[ 'tag' ] ) "
   ]
  },
  {
   "cell_type": "code",
   "execution_count": 30,
   "metadata": {},
   "outputs": [
    {
     "name": "stdout",
     "output_type": "stream",
     "text": [
      "2428\n",
      "tag                                                        2428\n",
      "samp_freq                                                    12\n",
      "acc_interp    2352 1883 1648 2353 1897 1645 2342 1913 1677 2...\n",
      "Name: 2019-07-19 10:00:00, dtype: object\n",
      "['2352', '1883', '1648', '2353', '1897', '1645', '2342', '1913', '1677', '2344', '1898', '1673', '2352', '1892', '1672', '2344', '1893', '1680', '2348', '1880', '1670', '2352', '1890', '1667', '2336', '1888', '1640']\n",
      "27\n",
      "tag                                                        2428\n",
      "samp_freq                                                 56.23\n",
      "acc_interp    2216 1844 1582 2211.5710267229256 1843.9999999...\n",
      "Name: 2019-07-19 18:00:00, dtype: object\n",
      "2216 1844 1582 2211.5710267229256 1843.9999999999998 1578.7074542897326 2212.8579465541493 1827.4149085794656 1576.8523206751056 2217.7130801687763 1832.7046413502107 1574.5738396624472 2218.284106891702 1823.579465541491 1571.9774964838255 2213.130801687764 1826.3178621659633 1576.1308016877636 2206.0168776371306 1832.409282700422 1570.5400843881857 2212.0140646976092 1834.0056258790437 1572.0534458509142 2209.7271448663855 1831.7271448663855 1576.2503516174402\n",
      "['2216', '1844', '1582', '2211.5710267229256', '1843.9999999999998', '1578.7074542897326', '2212.8579465541493', '1827.4149085794656', '1576.8523206751056', '2217.7130801687763', '1832.7046413502107', '1574.5738396624472', '2218.284106891702', '1823.579465541491', '1571.9774964838255', '2213.130801687764', '1826.3178621659633', '1576.1308016877636', '2206.0168776371306', '1832.409282700422', '1570.5400843881857', '2212.0140646976092', '1834.0056258790437', '1572.0534458509142', '2209.7271448663855', '1831.7271448663855', '1576.2503516174402']\n",
      "27\n",
      "\n",
      "2433\n",
      "tag                                                        2433\n",
      "samp_freq                                                    12\n",
      "acc_interp    2228 2172 1570 2230 2178 1583 2225 2172 1592 2...\n",
      "Name: 2019-07-19 10:00:00, dtype: object\n",
      "['2228', '2172', '1570', '2230', '2178', '1583', '2225', '2172', '1592', '2232', '2164', '1598', '2226', '2153', '1560', '2227', '2182', '1562', '2230', '2177', '1572', '2234', '2169', '1570', '2237', '2170', '1568']\n",
      "27\n",
      "tag                                                        2433\n",
      "samp_freq                                                 56.23\n",
      "acc_interp    2446 2124 1785 2441.715893108298 2123.42616033...\n",
      "Name: 2019-07-19 18:00:00, dtype: object\n",
      "2446 2124 1785 2441.715893108298 2123.426160337553 1786.7130801687763 2445.4205344585093 2119.153305203938 1795.8748241912797 2446.139240506329 2114.3037974683543 1780.877637130802 2442.284106891702 2116.863572433193 1776.1364275668075 2457.102672292546 2107.621659634318 1788.8270042194092 2445.1476793248944 2106.886075949367 1785.7552742616033 2448.9746835443034 2124.991561181435 1784.0309423347398 2446.7271448663855 2118.499296765119 1784.590717299578\n",
      "['2446', '2124', '1785', '2441.715893108298', '2123.426160337553', '1786.7130801687763', '2445.4205344585093', '2119.153305203938', '1795.8748241912797', '2446.139240506329', '2114.3037974683543', '1780.877637130802', '2442.284106891702', '2116.863572433193', '1776.1364275668075', '2457.102672292546', '2107.621659634318', '1788.8270042194092', '2445.1476793248944', '2106.886075949367', '1785.7552742616033', '2448.9746835443034', '2124.991561181435', '1784.0309423347398', '2446.7271448663855', '2118.499296765119', '1784.590717299578']\n",
      "27\n",
      "\n",
      "2434\n",
      "tag                                                        2434\n",
      "samp_freq                                                    12\n",
      "acc_interp    1923 2352 1620 1963 2408 1640 2066 2370 1644 2...\n",
      "Name: 2019-07-19 10:00:00, dtype: object\n",
      "['1923', '2352', '1620', '1963', '2408', '1640', '2066', '2370', '1644', '2000', '2352', '1636', '1999', '2311', '1622', '2076', '2327', '1542', '2012', '2280', '1558', '1985', '2304', '1572', '1976', '2259', '1565']\n",
      "27\n",
      "tag                                                        2434\n",
      "samp_freq                                                 56.23\n",
      "acc_interp    2323 2305 1783 2310.2869198312237 2313.4261603...\n",
      "Name: 2019-07-19 18:00:00, dtype: object\n",
      "2323 2305 1783 2310.2869198312237 2313.426160337553 1779.4345991561179 2308.0 2318.43741209564 1772.1195499296766 2317.565400843882 2315.721518987342 1777.7215189873418 2313.1364275668075 2314.011251758087 1782.8635724331928 2318.4064697609 2318.9859353023908 1786.0000000000002 2320.1645569620255 2318.721518987342 1780.6075949367087 2308.0140646976092 2320.0225035161743 1773.045007032349 2307.5682137834037 2314.7046413502107 1785.5232067510547\n",
      "['2323', '2305', '1783', '2310.2869198312237', '2313.426160337553', '1779.4345991561179', '2308.0', '2318.43741209564', '1772.1195499296766', '2317.565400843882', '2315.721518987342', '1777.7215189873418', '2313.1364275668075', '2314.011251758087', '1782.8635724331928', '2318.4064697609', '2318.9859353023908', '1786.0000000000002', '2320.1645569620255', '2318.721518987342', '1780.6075949367087', '2308.0140646976092', '2320.0225035161743', '1773.045007032349', '2307.5682137834037', '2314.7046413502107', '1785.5232067510547']\n",
      "27\n",
      "\n",
      "2436\n",
      "tag                                                        2436\n",
      "samp_freq                                                    12\n",
      "acc_interp    2306 2229 1708 2328 2247 1717 2220 2208 1756 2...\n",
      "Name: 2019-07-19 10:00:00, dtype: object\n",
      "['2306', '2229', '1708', '2328', '2247', '1717', '2220', '2208', '1756', '2310', '2264', '1735', '2306', '2188', '1636', '2330', '2195', '1578', '2354', '2265', '1692', '2334', '2204', '1726', '2311', '2200', '1702']\n",
      "27\n",
      "tag                                                        2436\n",
      "samp_freq                                                 56.23\n",
      "acc_interp    2326 2313 1790 2328.284106891702 2304.71870604...\n",
      "Name: 2019-07-19 18:00:00, dtype: object\n",
      "2326 2313 1790 2328.284106891702 2304.71870604782 1795.9943741209565 2318.9943741209563 2290.8523206751056 1772.2672292545708 2325.2953586497893 2311.4261603375526 1788.860759493671 2324.715893108298 2297.4317862165963 1787.863572433193 2322.1448663853726 2302.841068917018 1775.5935302391 2322.590717299578 2304.016877637131 1794.3291139240505 2315.03094233474 2298.002812939522 1788.0028129395218 2326.841068917018 2296.5682137834037 1784.1589310829816\n",
      "['2326', '2313', '1790', '2328.284106891702', '2304.71870604782', '1795.9943741209565', '2318.9943741209563', '2290.8523206751056', '1772.2672292545708', '2325.2953586497893', '2311.4261603375526', '1788.860759493671', '2324.715893108298', '2297.4317862165963', '1787.863572433193', '2322.1448663853726', '2302.841068917018', '1775.5935302391', '2322.590717299578', '2304.016877637131', '1794.3291139240505', '2315.03094233474', '2298.002812939522', '1788.0028129395218', '2326.841068917018', '2296.5682137834037', '1784.1589310829816']\n",
      "27\n",
      "\n",
      "2441\n",
      "tag                                                        2441\n",
      "samp_freq                                                    12\n",
      "acc_interp    2344 2206 1656 2350 2170 1668 2344 2192 1622 2...\n",
      "Name: 2019-07-19 10:00:00, dtype: object\n",
      "['2344', '2206', '1656', '2350', '2170', '1668', '2344', '2192', '1622', '2358', '2201', '1654', '2349', '2176', '1666', '2341', '2172', '1638', '2356', '2200', '1645', '2348', '2186', '1666', '2336', '2184', '1652']\n",
      "27\n",
      "tag                                                        2441\n",
      "samp_freq                                                 56.23\n",
      "acc_interp    2182 2235 1549 2180.284106891702 2260.85794655...\n",
      "Name: 2019-07-19 18:00:00, dtype: object\n",
      "2182 2235 1549 2180.284106891702 2260.857946554149 1543.8551336146272 2184.715893108298 2244.9887482419126 1533.1420534458512 2185.9915611814345 2244.0168776371306 1547.7299578059071 2184.87482419128 2239.704641350211 1544.7158931082981 2185.1589310829822 2240.5794655414907 1544.5794655414907 2185.7383966244724 2252.68776371308 1530.1645569620255 2183.997187060478 2236.067510548523 1545.0309423347398 2188.2728551336145 2251.682137834037 1547.4092827004217\n",
      "['2182', '2235', '1549', '2180.284106891702', '2260.857946554149', '1543.8551336146272', '2184.715893108298', '2244.9887482419126', '1533.1420534458512', '2185.9915611814345', '2244.0168776371306', '1547.7299578059071', '2184.87482419128', '2239.704641350211', '1544.7158931082981', '2185.1589310829822', '2240.5794655414907', '1544.5794655414907', '2185.7383966244724', '2252.68776371308', '1530.1645569620255', '2183.997187060478', '2236.067510548523', '1545.0309423347398', '2188.2728551336145', '2251.682137834037', '1547.4092827004217']\n"
     ]
    },
    {
     "name": "stdout",
     "output_type": "stream",
     "text": [
      "27\n",
      "\n",
      "2447\n",
      "tag                                                        2447\n",
      "samp_freq                                                    12\n",
      "acc_interp    2312 2028 1567 2317 2052 1539 2302 1984 1537 2...\n",
      "Name: 2019-07-19 10:00:00, dtype: object\n",
      "['2312', '2028', '1567', '2317', '2052', '1539', '2302', '1984', '1537', '2348', '2078', '1569', '2360', '2032', '1606', '2343', '2001', '1601', '2341', '2034', '1578', '2333', '2058', '1585', '2330', '2026', '1593']\n",
      "27\n",
      "tag                                                        2447\n",
      "samp_freq                                                 56.23\n",
      "acc_interp    2304 1812 1609 2303.710267229255 1837.13642756...\n",
      "Name: 2019-07-19 18:00:00, dtype: object\n",
      "2304 1812 1609 2303.710267229255 1837.1364275668075 1600.4289732770744 2302.0 1839.869198312236 1602.0 2305.721518987342 1829.4430379746836 1594.8523206751054 2302.863572433193 1831.4767932489453 1597.7046413502112 2305.1167369901545 1827.1308016877636 1599.0 2305.181434599156 1819.9831223628692 1598.8860759493673 2303.983122362869 1843.9324894514764 1591.9943741209565 2301.9549929676514 1833.5232067510547 1599.7496483825598\n",
      "['2304', '1812', '1609', '2303.710267229255', '1837.1364275668075', '1600.4289732770744', '2302.0', '1839.869198312236', '1602.0', '2305.721518987342', '1829.4430379746836', '1594.8523206751054', '2302.863572433193', '1831.4767932489453', '1597.7046413502112', '2305.1167369901545', '1827.1308016877636', '1599.0', '2305.181434599156', '1819.9831223628692', '1598.8860759493673', '2303.983122362869', '1843.9324894514764', '1591.9943741209565', '2301.9549929676514', '1833.5232067510547', '1599.7496483825598']\n",
      "27\n",
      "\n",
      "2450\n",
      "tag                                                        2450\n",
      "samp_freq                                                    12\n",
      "acc_interp    2434 2072 1761 2464 2080 1753 2450 2127 1730 2...\n",
      "Name: 2019-07-19 10:00:00, dtype: object\n",
      "['2434', '2072', '1761', '2464', '2080', '1753', '2450', '2127', '1730', '2417', '2117', '1738', '2428', '2061', '1762', '2472', '2020', '1780', '2448', '2037', '1766', '2404', '2064', '1692', '2424', '2083', '1715']\n",
      "27\n",
      "tag                                                        2450\n",
      "samp_freq                                                 56.23\n",
      "acc_interp    2448 2214 1745 2438.0056258790432 2209.1420534...\n",
      "Name: 2019-07-19 18:00:00, dtype: object\n",
      "2448 2214 1745 2438.0056258790432 2209.142053445851 1762.8523206751056 2438.2841068917014 2200.579465541491 1760.8523206751054 2440.0 2190.5822784810125 1761.2700421940929 2441.4430379746836 2192.12517580872 1766.2953586497888 2442.565400843882 2194.2756680731363 1762.014064697609 2440.5569620253164 2187.9662447257383 1768.1308016877638 2443.971870604782 2197.988748241913 1775.9381153305205 2440.4317862165967 2201.0914205344584 1768.545710267229\n",
      "['2448', '2214', '1745', '2438.0056258790432', '2209.142053445851', '1762.8523206751056', '2438.2841068917014', '2200.579465541491', '1760.8523206751054', '2440.0', '2190.5822784810125', '1761.2700421940929', '2441.4430379746836', '2192.12517580872', '1766.2953586497888', '2442.565400843882', '2194.2756680731363', '1762.014064697609', '2440.5569620253164', '2187.9662447257383', '1768.1308016877638', '2443.971870604782', '2197.988748241913', '1775.9381153305205', '2440.4317862165967', '2201.0914205344584', '1768.545710267229']\n",
      "27\n",
      "\n",
      "2451\n",
      "tag                                                        2451\n",
      "samp_freq                                                    12\n",
      "acc_interp    2334 1963 1661 2368 1868 1579 2280 1939 1622 2...\n",
      "Name: 2019-07-19 10:00:00, dtype: object\n",
      "['2334', '1963', '1661', '2368', '1868', '1579', '2280', '1939', '1622', '2312', '1884', '1650', '2359', '1931', '1626', '2336', '1908', '1581', '2262', '1956', '1608', '2282', '1874', '1670', '2396', '1980', '1595']\n",
      "27\n",
      "tag                                                        2451\n",
      "samp_freq                                                 56.23\n",
      "acc_interp    2358 1891 1671 2364.1448663853726 1880.9971870...\n",
      "Name: 2019-07-19 18:00:00, dtype: object\n",
      "2358 1891 1671 2364.1448663853726 1880.9971870604784 1682.7243319268634 2374.2953586497893 1870.1364275668072 1686.153305203938 2364.139240506329 1889.8607594936711 1671.7299578059071 2367.158931082982 1881.409282700422 1675.4317862165963 2360.0 1885.1589310829818 1686.4064697609003 2369.5738396624474 1888.4261603375526 1676.3924050632909 2359.0365682137835 1871.9887482419126 1673.0337552742617 2364.2953586497893 1891.409282700422 1686.364275668073\n",
      "['2358', '1891', '1671', '2364.1448663853726', '1880.9971870604784', '1682.7243319268634', '2374.2953586497893', '1870.1364275668072', '1686.153305203938', '2364.139240506329', '1889.8607594936711', '1671.7299578059071', '2367.158931082982', '1881.409282700422', '1675.4317862165963', '2360.0', '1885.1589310829818', '1686.4064697609003', '2369.5738396624474', '1888.4261603375526', '1676.3924050632909', '2359.0365682137835', '1871.9887482419126', '1673.0337552742617', '2364.2953586497893', '1891.409282700422', '1686.364275668073']\n",
      "27\n",
      "\n",
      "2454\n",
      "tag                                                        2454\n",
      "samp_freq                                                    12\n",
      "acc_interp    2294 1821 1646 2317 1848 1670 2312 1843 1635 2...\n",
      "Name: 2019-07-19 10:00:00, dtype: object\n",
      "['2294', '1821', '1646', '2317', '1848', '1670', '2312', '1843', '1635', '2308', '2012', '1582', '2300', '1946', '1808', '2382', '1524', '1782', '2306', '1855', '1710', '2254', '1749', '1733', '2332', '1834', '1630']\n",
      "27\n",
      "tag                                                        2454\n",
      "samp_freq                                                 56.23\n",
      "acc_interp    2229 2066 1549 2221.1420534458507 2053.4289732...\n",
      "Name: 2019-07-19 18:00:00, dtype: object\n",
      "2229 2066 1549 2221.1420534458507 2053.4289732770744 1555.423347398031 2220.0 2060.715893108298 1539.9943741209563 2222.5822784810125 2055.4261603375526 1540.139240506329 2217.4317862165967 2060.0225035161743 1536.7158931082981 2224.144866385373 2061.971870604782 1557.7102672292544 2227.1476793248944 2057.7552742616035 1544.9831223628692 2219.025316455696 2060.0 1537.0225035161745 2221.5457102672294 2044.2503516174404 1546.9774964838255\n",
      "['2229', '2066', '1549', '2221.1420534458507', '2053.4289732770744', '1555.423347398031', '2220.0', '2060.715893108298', '1539.9943741209563', '2222.5822784810125', '2055.4261603375526', '1540.139240506329', '2217.4317862165967', '2060.0225035161743', '1536.7158931082981', '2224.144866385373', '2061.971870604782', '1557.7102672292544', '2227.1476793248944', '2057.7552742616035', '1544.9831223628692', '2219.025316455696', '2060.0', '1537.0225035161745', '2221.5457102672294', '2044.2503516174404', '1546.9774964838255']\n",
      "27\n",
      "\n",
      "2455\n",
      "tag                                                        2455\n",
      "samp_freq                                                    12\n",
      "acc_interp    2284 2340 1657 2282 2348 1633 2298 2332 1677 2...\n",
      "Name: 2019-07-19 10:00:00, dtype: object\n",
      "['2284', '2340', '1657', '2282', '2348', '1633', '2298', '2332', '1677', '2268', '2354', '1637', '2306', '2324', '1662', '2341', '2316', '1684', '2320', '2323', '1672', '2330', '2324', '1668', '2357', '2308', '1696']\n",
      "27\n",
      "tag                                                        2455\n",
      "samp_freq                                                 56.23\n",
      "acc_interp    2478 2148 1868 2476.9943741209563 2154.4402250...\n",
      "Name: 2019-07-19 18:00:00, dtype: object\n",
      "2478 2148 1868 2476.9943741209563 2154.440225035162 1873.4289732770746 2481.4317862165963 2162.4430379746836 1884.0056258790437 2482.2953586497893 2153.7046413502107 1857.7215189873418 2487.715893108298 2164.3178621659636 1867.5794655414911 2477.7383966244724 2161.3924050632913 1874.8551336146274 2488.0 2155.4430379746836 1859.1308016877636 2485.0084388185655 2172.946554149086 1865.0365682137833 2484.9774964838257 2153.0225035161743 1876.5907172995783\n",
      "['2478', '2148', '1868', '2476.9943741209563', '2154.440225035162', '1873.4289732770746', '2481.4317862165963', '2162.4430379746836', '1884.0056258790437', '2482.2953586497893', '2153.7046413502107', '1857.7215189873418', '2487.715893108298', '2164.3178621659636', '1867.5794655414911', '2477.7383966244724', '2161.3924050632913', '1874.8551336146274', '2488.0', '2155.4430379746836', '1859.1308016877636', '2485.0084388185655', '2172.946554149086', '1865.0365682137833', '2484.9774964838257', '2153.0225035161743', '1876.5907172995783']\n"
     ]
    },
    {
     "name": "stdout",
     "output_type": "stream",
     "text": [
      "27\n",
      "\n",
      "6890\n",
      "tag                                                        6890\n",
      "samp_freq                                                    20\n",
      "acc_interp    2396 2429 1770 2327.3333333333335 2408.6666666...\n",
      "Name: 2019-08-06 10:00:08, dtype: object\n",
      "['2396', '2429', '1770', '2327.3333333333335', '2408.6666666666665', '1862.3333333333335', '2349.666666666667', '2306.333333333333', '1854.3333333333333', '2425', '2304', '1879', '2433.6666666666665', '2245.0', '1871.0', '2313.6666666666665', '2303.6666666666665', '1834.6666666666667', '2408', '2354', '1874', '2371.6666666666665', '2313.0', '1871.3333333333333', '2555.3333333333335', '2614.3333333333335', '1721.3333333333333']\n",
      "27\n",
      "tag                                                        6890\n",
      "samp_freq                                                    20\n",
      "acc_interp    2453 2295 1890 2451.9999999999995 2294.6666666...\n",
      "Name: 2019-07-19 18:00:08, dtype: object\n",
      "2453 2295 1890 2451.9999999999995 2294.666666666667 1889.0 2454.3333333333335 2295.333333333333 1890.6666666666667 2454 2295 1890 2453.0 2296.0 1888.6666666666665 2453.0 2295.3333333333335 1889.3333333333333 2454 2296 1889 2454.0 2298.0 1889.6666666666667 2452.3333333333335 2295.0000000000005 1890.0\n",
      "['2453', '2295', '1890', '2451.9999999999995', '2294.666666666667', '1889.0', '2454.3333333333335', '2295.333333333333', '1890.6666666666667', '2454', '2295', '1890', '2453.0', '2296.0', '1888.6666666666665', '2453.0', '2295.3333333333335', '1889.3333333333333', '2454', '2296', '1889', '2454.0', '2298.0', '1889.6666666666667', '2452.3333333333335', '2295.0000000000005', '1890.0']\n",
      "27\n",
      "\n",
      "6891\n",
      "no day data\n",
      "tag                                                        6891\n",
      "samp_freq                                                    20\n",
      "acc_interp    2178 2391 1703 2177.0 2391.333333333333 1702.3...\n",
      "Name: 2019-07-19 18:00:08, dtype: object\n",
      "2178 2391 1703 2177.0 2391.333333333333 1702.3333333333335 2179.0000000000005 2391.6666666666665 1702.3333333333333 2179 2392 1702 2178.6666666666665 2392.0 1701.0 2179.0 2391.0 1700.6666666666667 2178 2392 1701 2178.6666666666665 2390.666666666667 1702.0 2177.6666666666665 2391.3333333333335 1701.6666666666665\n",
      "['2178', '2391', '1703', '2177.0', '2391.333333333333', '1702.3333333333335', '2179.0000000000005', '2391.6666666666665', '1702.3333333333333', '2179', '2392', '1702', '2178.6666666666665', '2392.0', '1701.0', '2179.0', '2391.0', '1700.6666666666667', '2178', '2392', '1701', '2178.6666666666665', '2390.666666666667', '1702.0', '2177.6666666666665', '2391.3333333333335', '1701.6666666666665']\n",
      "27\n",
      "\n",
      "6892\n",
      "tag                                                        6892\n",
      "samp_freq                                                    20\n",
      "acc_interp    2631 1984 2179 2561.333333333333 2108.66666666...\n",
      "Name: 2019-08-06 10:00:07, dtype: object\n",
      "['2631', '1984', '2179', '2561.333333333333', '2108.6666666666665', '2050.333333333333', '2523.6666666666665', '2137.6666666666665', '2012.0', '2530', '2224', '1959', '2499.6666666666665', '2266.0', '1828.0000000000002', '2441.3333333333335', '2293.6666666666665', '1774.6666666666667', '2460', '2293', '1853', '2558.0', '2244.6666666666665', '1902.3333333333335', '2483.666666666667', '2135.0', '1868.3333333333333']\n",
      "27\n",
      "tag                                                        6892\n",
      "samp_freq                                                    20\n",
      "acc_interp    1980 2467 1774 1976.6666666666667 2468.3333333...\n",
      "Name: 2019-07-19 18:00:24, dtype: object\n",
      "1980 2467 1774 1976.6666666666667 2468.3333333333335 1773.0 1975.6666666666665 2467.0 1772.0 1978 2466 1774 1976.3333333333335 2466.333333333333 1770.6666666666667 1977.3333333333333 2465.6666666666665 1772.3333333333333 1980 2468 1773 1977.6666666666665 2467.3333333333335 1772.6666666666667 1976.9999999999998 2467.0 1770.3333333333333\n",
      "['1980', '2467', '1774', '1976.6666666666667', '2468.3333333333335', '1773.0', '1975.6666666666665', '2467.0', '1772.0', '1978', '2466', '1774', '1976.3333333333335', '2466.333333333333', '1770.6666666666667', '1977.3333333333333', '2465.6666666666665', '1772.3333333333333', '1980', '2468', '1773', '1977.6666666666665', '2467.3333333333335', '1772.6666666666667', '1976.9999999999998', '2467.0', '1770.3333333333333']\n",
      "27\n",
      "\n",
      "6894\n",
      "no day data\n",
      "tag                                                        6894\n",
      "samp_freq                                                    20\n",
      "acc_interp    2517 2070 2231 2517.6666666666665 2069.3333333...\n",
      "Name: 2019-07-19 18:00:08, dtype: object\n",
      "2517 2070 2231 2517.6666666666665 2069.333333333333 2228.6666666666665 2519.0 2071.333333333333 2229.666666666667 2520 2069 2230 2518.3333333333335 2069.3333333333335 2228.6666666666665 2519.0 2071.0 2228.6666666666665 2524 2072 2229 2519.3333333333335 2073.0 2228.0 2518.0 2072.3333333333335 2230.0000000000005\n",
      "['2517', '2070', '2231', '2517.6666666666665', '2069.333333333333', '2228.6666666666665', '2519.0', '2071.333333333333', '2229.666666666667', '2520', '2069', '2230', '2518.3333333333335', '2069.3333333333335', '2228.6666666666665', '2519.0', '2071.0', '2228.6666666666665', '2524', '2072', '2229', '2519.3333333333335', '2073.0', '2228.0', '2518.0', '2072.3333333333335', '2230.0000000000005']\n",
      "27\n",
      "\n",
      "6897\n",
      "tag                                                        6897\n",
      "samp_freq                                                    20\n",
      "acc_interp    2414 2210 1917 2487.0 2048.6666666666665 1772....\n",
      "Name: 2019-08-06 10:00:08, dtype: object\n",
      "['2414', '2210', '1917', '2487.0', '2048.6666666666665', '1772.6666666666667', '2455.6666666666665', '2161.666666666667', '1747.6666666666665', '2440', '2243', '1782', '2501.0', '2182.3333333333335', '1857.6666666666663', '2518.3333333333335', '2114.6666666666665', '1926.333333333333', '2581', '2130', '1936', '2477.6666666666665', '2072.666666666667', '1924.6666666666667', '2538.666666666667', '2141.9999999999995', '1915.6666666666667']\n",
      "27\n",
      "tag                                                        6897\n",
      "samp_freq                                                    20\n",
      "acc_interp    2182 2205 1587 2182.0 2205.0 1585.999999999999...\n",
      "Name: 2019-07-19 18:00:15, dtype: object\n",
      "2182 2205 1587 2182.0 2205.0 1585.9999999999998 2180.3333333333335 2207.0 1584.0000000000002 2182 2207 1585 2181.333333333333 2205.6666666666665 1585.0 2180.6666666666665 2206.0 1585.6666666666667 2182 2207 1585 2181.6666666666665 2206.0 1585.6666666666667 2182.0 2203.0 1585.3333333333333\n",
      "['2182', '2205', '1587', '2182.0', '2205.0', '1585.9999999999998', '2180.3333333333335', '2207.0', '1584.0000000000002', '2182', '2207', '1585', '2181.333333333333', '2205.6666666666665', '1585.0', '2180.6666666666665', '2206.0', '1585.6666666666667', '2182', '2207', '1585', '2181.6666666666665', '2206.0', '1585.6666666666667', '2182.0', '2203.0', '1585.3333333333333']\n",
      "27\n",
      "\n",
      "6898\n",
      "no day data\n",
      "tag                                                        6898\n",
      "samp_freq                                                    20\n",
      "acc_interp    2413 2265 2325 2413.6666666666665 2266.0 2322....\n",
      "Name: 2019-07-19 18:00:16, dtype: object\n",
      "2413 2265 2325 2413.6666666666665 2266.0 2322.6666666666665 2413.9999999999995 2265.333333333333 2322.6666666666665 2418 2270 2323 2413.9999999999995 2265.333333333333 2322.666666666667 2414.3333333333335 2265.6666666666665 2323.0 2413 2265 2321 2415.0 2264.6666666666665 2322.333333333333 2415.666666666667 2265.666666666667 2322.0\n",
      "['2413', '2265', '2325', '2413.6666666666665', '2266.0', '2322.6666666666665', '2413.9999999999995', '2265.333333333333', '2322.6666666666665', '2418', '2270', '2323', '2413.9999999999995', '2265.333333333333', '2322.666666666667', '2414.3333333333335', '2265.6666666666665', '2323.0', '2413', '2265', '2321', '2415.0', '2264.6666666666665', '2322.333333333333', '2415.666666666667', '2265.666666666667', '2322.0']\n",
      "27\n",
      "\n",
      "6900\n",
      "tag                                                        6900\n",
      "samp_freq                                                    20\n",
      "acc_interp    2594 2091 1970 2527.0 2092.3333333333335 1927....\n",
      "Name: 2019-08-06 10:00:07, dtype: object\n",
      "['2594', '2091', '1970', '2527.0', '2092.3333333333335', '1927.0', '2502.0', '2115.3333333333335', '1801.3333333333335', '2633', '1949', '2158', '2530.3333333333335', '2003.333333333333', '1934.6666666666665', '2521.6666666666665', '2072.0', '1868.6666666666665', '2509', '2019', '1873', '2532.333333333333', '2085.0', '1933.6666666666665', '2568.6666666666665', '2146.6666666666665', '1974.666666666667']\n"
     ]
    },
    {
     "name": "stdout",
     "output_type": "stream",
     "text": [
      "27\n",
      "tag                                                        6900\n",
      "samp_freq                                                    20\n",
      "acc_interp    2260 2242 1637 2258.6666666666665 2241.0 1637....\n",
      "Name: 2019-07-19 18:00:15, dtype: object\n",
      "2260 2242 1637 2258.6666666666665 2241.0 1637.0 2258.333333333333 2242.0 1637.0 2259 2244 1636 2258.6666666666665 2241.0 1638.3333333333335 2260.333333333333 2241.0 1638.0 2259 2242 1638 2258.0 2241.333333333333 1636.6666666666665 2257.666666666667 2238.666666666667 1637.6666666666667\n",
      "['2260', '2242', '1637', '2258.6666666666665', '2241.0', '1637.0', '2258.333333333333', '2242.0', '1637.0', '2259', '2244', '1636', '2258.6666666666665', '2241.0', '1638.3333333333335', '2260.333333333333', '2241.0', '1638.0', '2259', '2242', '1638', '2258.0', '2241.333333333333', '1636.6666666666665', '2257.666666666667', '2238.666666666667', '1637.6666666666667']\n",
      "27\n",
      "\n",
      "6903\n",
      "tag                                                        6903\n",
      "samp_freq                                                    20\n",
      "acc_interp    3074 1731 2090 2618.9999999999995 2204.0 1582....\n",
      "Name: 2019-07-19 10:00:13, dtype: object\n",
      "['3074', '1731', '2090', '2618.9999999999995', '2204.0', '1582.0000000000005', '1984.9999999999998', '2580.0', '1532.3333333333333', '2166', '2234', '1853', '2204.0000000000005', '2702.0', '1709.3333333333335', '2400.3333333333335', '2227.6666666666665', '1738.6666666666665', '2364', '2296', '1898', '2312.666666666666', '2221.6666666666665', '1832.333333333333', '2398.0000000000005', '2486.3333333333335', '1587.0000000000002']\n",
      "27\n",
      "no night data\n",
      "\n",
      "6908\n",
      "tag                                                        6908\n",
      "samp_freq                                                    20\n",
      "acc_interp    2288 2240 1775 2408.6666666666665 2257.6666666...\n",
      "Name: 2019-07-19 10:00:09, dtype: object\n",
      "['2288', '2240', '1775', '2408.6666666666665', '2257.666666666667', '1774.6666666666665', '2369.666666666667', '2308.0', '1756.3333333333333', '2422', '2274', '1752', '2388.3333333333335', '2276.666666666667', '1762.0', '2432.0', '2292.0', '1768.3333333333333', '2425', '2272', '1767', '2400.333333333333', '2310.6666666666665', '1751.3333333333335', '2378.6666666666665', '2269.6666666666665', '1779.3333333333335']\n",
      "27\n",
      "no night data\n",
      "\n",
      "6910\n",
      "no day data\n",
      "tag                                                        6910\n",
      "samp_freq                                                    20\n",
      "acc_interp    2490 1952 2276 2492.6666666666665 1951.3333333...\n",
      "Name: 2019-07-19 18:00:15, dtype: object\n",
      "2490 1952 2276 2492.6666666666665 1951.3333333333333 2277.3333333333335 2491.333333333333 1952.0 2275.666666666667 2492 1951 2278 2491.333333333333 1952.0 2276.333333333333 2491.0 1952.0 2277.0 2491 1952 2277 2491.3333333333335 1951.9999999999998 2277.0 2491.6666666666665 1951.9999999999998 2277.666666666667\n",
      "['2490', '1952', '2276', '2492.6666666666665', '1951.3333333333333', '2277.3333333333335', '2491.333333333333', '1952.0', '2275.666666666667', '2492', '1951', '2278', '2491.333333333333', '1952.0', '2276.333333333333', '2491.0', '1952.0', '2277.0', '2491', '1952', '2277', '2491.3333333333335', '1951.9999999999998', '2277.0', '2491.6666666666665', '1951.9999999999998', '2277.666666666667']\n",
      "27\n",
      "\n",
      "6911\n",
      "tag                                                        6911\n",
      "samp_freq                                                    20\n",
      "acc_interp    2253 2297 1616 2198.3333333333335 2260.0 1730....\n",
      "Name: 2019-07-19 10:00:08, dtype: object\n",
      "['2253', '2297', '1616', '2198.3333333333335', '2260.0', '1730.3333333333335', '2243.6666666666665', '2371.0', '1787.0', '2309', '2384', '1643', '2275.0', '2394.3333333333335', '1701.6666666666667', '2192.3333333333335', '2356.666666666667', '1688.9999999999998', '2194', '2383', '1694', '2214.6666666666665', '2418.3333333333335', '1685.3333333333333', '2202.6666666666665', '2392.6666666666665', '1652.9999999999998']\n",
      "27\n",
      "no night data\n",
      "\n",
      "6914\n",
      "no day data\n",
      "tag                                                        6914\n",
      "samp_freq                                                    20\n",
      "acc_interp    2329 2342 1749 2332.0 2339.0 1747.0 2330.0 234...\n",
      "Name: 2019-07-19 18:00:08, dtype: object\n",
      "2329 2342 1749 2332.0 2339.0 1747.0 2330.0 2341.0 1748.0 2330 2341 1748 2331.0 2340.0 1748.6666666666665 2328.9999999999995 2342.0 1749.3333333333335 2329 2343 1747 2332.0 2340.0 1750.3333333333333 2329.0 2343.3333333333335 1749.0\n",
      "['2329', '2342', '1749', '2332.0', '2339.0', '1747.0', '2330.0', '2341.0', '1748.0', '2330', '2341', '1748', '2331.0', '2340.0', '1748.6666666666665', '2328.9999999999995', '2342.0', '1749.3333333333335', '2329', '2343', '1747', '2332.0', '2340.0', '1750.3333333333333', '2329.0', '2343.3333333333335', '1749.0']\n",
      "27\n",
      "\n",
      "6915\n",
      "no day data\n",
      "tag                                                        6915\n",
      "samp_freq                                                    20\n",
      "acc_interp    2500 1934 1853 2501.6666666666665 1934.0000000...\n",
      "Name: 2019-07-19 18:00:08, dtype: object\n",
      "2500 1934 1853 2501.6666666666665 1934.0000000000002 1853.6666666666667 2502.0 1931.9999999999998 1854.6666666666667 2499 1936 1859 2501.0 1932.6666666666667 1851.6666666666667 2503.6666666666665 1934.0 1855.6666666666667 2504 1932 1855 2501.666666666667 1933.6666666666667 1853.6666666666667 2502.3333333333335 1934.0 1854.6666666666667\n",
      "['2500', '1934', '1853', '2501.6666666666665', '1934.0000000000002', '1853.6666666666667', '2502.0', '1931.9999999999998', '1854.6666666666667', '2499', '1936', '1859', '2501.0', '1932.6666666666667', '1851.6666666666667', '2503.6666666666665', '1934.0', '1855.6666666666667', '2504', '1932', '1855', '2501.666666666667', '1933.6666666666667', '1853.6666666666667', '2502.3333333333335', '1934.0', '1854.6666666666667']\n",
      "27\n",
      "\n",
      "6917\n",
      "tag                                                        6917\n",
      "samp_freq                                                    20\n",
      "acc_interp    2502 1978 1798 2495.0 1991.3333333333333 1811....\n",
      "Name: 2019-07-19 10:02:32, dtype: object\n",
      "['2502', '1978', '1798', '2495.0', '1991.3333333333333', '1811.6666666666667', '2512.333333333333', '1981.6666666666667', '1834.6666666666667', '2492', '2027', '1801', '2525.0', '2020.6666666666665', '1842.6666666666667', '2520.0', '2010.6666666666667', '1843.3333333333333', '2512', '1994', '1846', '2517.3333333333335', '2011.3333333333333', '1835.3333333333335', '2507.0', '2005.3333333333335', '1832.3333333333335']\n",
      "27\n",
      "no night data\n",
      "\n",
      "6921\n",
      "no day data\n",
      "tag                                                        6921\n",
      "samp_freq                                                    20\n",
      "acc_interp    2331 1875 1673 2330.666666666667 1873.66666666...\n",
      "Name: 2019-07-19 18:00:08, dtype: object\n",
      "2331 1875 1673 2330.666666666667 1873.6666666666667 1672.0 2331.333333333333 1874.0 1672.0 2330 1874 1672 2331.666666666667 1872.6666666666667 1671.6666666666667 2329.666666666667 1873.3333333333333 1672.0 2330 1869 1673 2331.333333333333 1873.0000000000002 1672.0 2331.0 1873.6666666666667 1671.6666666666665\n",
      "['2331', '1875', '1673', '2330.666666666667', '1873.6666666666667', '1672.0', '2331.333333333333', '1874.0', '1672.0', '2330', '1874', '1672', '2331.666666666667', '1872.6666666666667', '1671.6666666666667', '2329.666666666667', '1873.3333333333333', '1672.0', '2330', '1869', '1673', '2331.333333333333', '1873.0000000000002', '1672.0', '2331.0', '1873.6666666666667', '1671.6666666666665']\n",
      "27\n",
      "\n",
      "6924\n",
      "no day data\n",
      "tag                                                        6924\n",
      "samp_freq                                                    20\n",
      "acc_interp    2109 2254 1586 2107.0 2254.6666666666665 1584....\n",
      "Name: 2019-07-19 18:00:39, dtype: object\n",
      "2109 2254 1586 2107.0 2254.6666666666665 1584.0 2107.0 2254.3333333333335 1585.0 2107 2254 1583 2107.3333333333335 2254.0000000000005 1584.3333333333333 2107.3333333333335 2254.0 1584.9999999999998 2106 2256 1586 2107.0000000000005 2253.6666666666665 1584.6666666666667 2106.9999999999995 2254.0 1584.0\n",
      "['2109', '2254', '1586', '2107.0', '2254.6666666666665', '1584.0', '2107.0', '2254.3333333333335', '1585.0', '2107', '2254', '1583', '2107.3333333333335', '2254.0000000000005', '1584.3333333333333', '2107.3333333333335', '2254.0', '1584.9999999999998', '2106', '2256', '1586', '2107.0000000000005', '2253.6666666666665', '1584.6666666666667', '2106.9999999999995', '2254.0', '1584.0']\n"
     ]
    },
    {
     "name": "stdout",
     "output_type": "stream",
     "text": [
      "27\n",
      "\n",
      "6927\n",
      "no day data\n",
      "tag                                                        6927\n",
      "samp_freq                                                    20\n",
      "acc_interp    1980 1483 1906 2014.3333333333333 1601.3333333...\n",
      "Name: 2019-07-19 18:00:20, dtype: object\n",
      "1980 1483 1906 2014.3333333333333 1601.3333333333335 1868.3333333333333 2011.9999999999998 1602.3333333333333 1823.3333333333333 1859 1548 1875 2002.3333333333333 1574.6666666666667 1823.0 2060.666666666667 1430.333333333334 1847.0 2156 1632 1828 2113.0 1681.0000000000002 1740.0000000000002 2150.0 1682.333333333333 1682.6666666666667\n",
      "['1980', '1483', '1906', '2014.3333333333333', '1601.3333333333335', '1868.3333333333333', '2011.9999999999998', '1602.3333333333333', '1823.3333333333333', '1859', '1548', '1875', '2002.3333333333333', '1574.6666666666667', '1823.0', '2060.666666666667', '1430.333333333334', '1847.0', '2156', '1632', '1828', '2113.0', '1681.0000000000002', '1740.0000000000002', '2150.0', '1682.333333333333', '1682.6666666666667']\n",
      "27\n",
      "\n",
      "6932\n",
      "tag                                                        6932\n",
      "samp_freq                                                    20\n",
      "acc_interp    1838 1813 1665 1840.6666666666665 1800.6666666...\n",
      "Name: 2019-07-19 10:00:09, dtype: object\n",
      "['1838', '1813', '1665', '1840.6666666666665', '1800.6666666666665', '1672.6666666666667', '1831.6666666666667', '1796.0', '1677.0', '1836', '1785', '1672', '1836.6666666666667', '1788.9999999999998', '1672.3333333333333', '1831.6666666666667', '1801.0', '1678.9999999999998', '1830', '1811', '1687', '1822.3333333333333', '1797.0', '1682.3333333333335', '1819.3333333333335', '1794.6666666666665', '1672.6666666666667']\n",
      "27\n",
      "tag                                                        6932\n",
      "samp_freq                                                    20\n",
      "acc_interp    1938 1853 1597 1939.3333333333333 1851.3333333...\n",
      "Name: 2019-07-19 18:00:08, dtype: object\n",
      "1938 1853 1597 1939.3333333333333 1851.3333333333335 1596.0000000000002 1939.0 1853.3333333333333 1596.6666666666667 1939 1850 1598 1939.3333333333333 1849.9999999999998 1596.3333333333333 1938.0 1854.0000000000002 1596.3333333333333 1940 1850 1593 1939.3333333333333 1853.0 1597.0 1939.0 1850.3333333333335 1596.3333333333333\n",
      "['1938', '1853', '1597', '1939.3333333333333', '1851.3333333333335', '1596.0000000000002', '1939.0', '1853.3333333333333', '1596.6666666666667', '1939', '1850', '1598', '1939.3333333333333', '1849.9999999999998', '1596.3333333333333', '1938.0', '1854.0000000000002', '1596.3333333333333', '1940', '1850', '1593', '1939.3333333333333', '1853.0', '1597.0', '1939.0', '1850.3333333333335', '1596.3333333333333']\n",
      "27\n",
      "\n",
      "6933\n",
      "no day data\n",
      "tag                                                        6933\n",
      "samp_freq                                                    20\n",
      "acc_interp    2548 2000 2025 2549.0 1999.3333333333333 2025....\n",
      "Name: 2019-07-19 18:00:24, dtype: object\n",
      "2548 2000 2025 2549.0 1999.3333333333333 2025.0 2547.0 2000.3333333333333 2023.6666666666665 2549 1999 2023 2549.6666666666665 1999.0000000000002 2025.3333333333335 2547.3333333333335 1998.6666666666665 2025.6666666666665 2548 1998 2024 2548.333333333333 1999.6666666666665 2025.3333333333335 2548.0 1998.6666666666667 2026.6666666666667\n",
      "['2548', '2000', '2025', '2549.0', '1999.3333333333333', '2025.0', '2547.0', '2000.3333333333333', '2023.6666666666665', '2549', '1999', '2023', '2549.6666666666665', '1999.0000000000002', '2025.3333333333335', '2547.3333333333335', '1998.6666666666665', '2025.6666666666665', '2548', '1998', '2024', '2548.333333333333', '1999.6666666666665', '2025.3333333333335', '2548.0', '1998.6666666666667', '2026.6666666666667']\n",
      "27\n",
      "\n",
      "6934\n",
      "tag                                                        6934\n",
      "samp_freq                                                    20\n",
      "acc_interp    2530 1976 1902 2513.0 1886.9999999999998 1945....\n",
      "Name: 2019-08-06 10:00:09, dtype: object\n",
      "['2530', '1976', '1902', '2513.0', '1886.9999999999998', '1945.6666666666665', '2538.6666666666665', '1942.3333333333333', '1940.6666666666667', '2523', '1954', '1918', '2526.0', '1937.3333333333333', '1921.0', '2527.6666666666665', '1936.0', '1901.6666666666667', '2526', '1942', '1908', '2528.0', '1937.3333333333335', '1915.3333333333333', '2531.0000000000005', '1941.0', '1893.0000000000002']\n",
      "27\n",
      "tag                                                        6934\n",
      "samp_freq                                                    20\n",
      "acc_interp    2091 1997 1556 2090.3333333333335 1995.6666666...\n",
      "Name: 2019-07-19 18:00:10, dtype: object\n",
      "2091 1997 1556 2090.3333333333335 1995.6666666666665 1556.0000000000002 2089.3333333333335 1994.9999999999998 1555.6666666666667 2091 1995 1557 2090.333333333333 1992.6666666666667 1557.3333333333333 2088.6666666666665 1994.0 1556.6666666666667 2089 1997 1555 2089.0 1997.3333333333335 1556.3333333333333 2090.0 1995.0 1555.3333333333333\n",
      "['2091', '1997', '1556', '2090.3333333333335', '1995.6666666666665', '1556.0000000000002', '2089.3333333333335', '1994.9999999999998', '1555.6666666666667', '2091', '1995', '1557', '2090.333333333333', '1992.6666666666667', '1557.3333333333333', '2088.6666666666665', '1994.0', '1556.6666666666667', '2089', '1997', '1555', '2089.0', '1997.3333333333335', '1556.3333333333333', '2090.0', '1995.0', '1555.3333333333333']\n",
      "27\n",
      "\n"
     ]
    }
   ],
   "source": [
    "## this cell is just to check what data exists for each tag at different times of the day (because the sampling changed between the daytime and nighttime)\n",
    "for tag in tag_names:\n",
    "    \n",
    "    id_dat = dat[ dat['tag'] == tag ]\n",
    "    \n",
    "    day_dat = id_dat.between_time( start_time = '10:00:00', end_time = '13:00:00' )\n",
    "    \n",
    "    night_dat = id_dat.between_time( start_time = '18:00:00', end_time = '20:00:00' )\n",
    "    \n",
    "    print( tag, flush = True )\n",
    "    \n",
    "    if day_dat.shape[ 0 ] == 0:\n",
    "        print( \"no day data\")\n",
    "    \n",
    "    else:\n",
    "        print( day_dat.iloc[ 0, : ], flush = True )\n",
    "        fixes = day_dat[ 'acc_interp' ].iloc[ 0 ].split( ' ' )\n",
    "        print( fixes, flush = True )\n",
    "        print( len( fixes ) ) \n",
    "    \n",
    "    if night_dat.shape[ 0 ] == 0:\n",
    "        \n",
    "        print( \"no night data\" )\n",
    "        \n",
    "    else:\n",
    "\n",
    "        print( night_dat.iloc[ 0, : ], flush = True )\n",
    "        print( night_dat[ 'acc_interp' ].iloc[ 0 ], flush = True )\n",
    "        fixes = night_dat[ 'acc_interp' ].iloc[ 0 ].split( ' ' )\n",
    "        print( fixes, flush = True )\n",
    "        print( len( fixes ) ) \n",
    "\n",
    "    print( )"
   ]
  },
  {
   "cell_type": "code",
   "execution_count": 31,
   "metadata": {},
   "outputs": [],
   "source": [
    "# reset the index, so that the timestamp becomes a column and not the index again\n",
    "dat.reset_index( inplace = True )"
   ]
  },
  {
   "cell_type": "code",
   "execution_count": 32,
   "metadata": {},
   "outputs": [],
   "source": [
    "# save the resulting csv\n",
    "dat.to_csv(\"all_burst_acc.csv\", index = False)"
   ]
  },
  {
   "cell_type": "code",
   "execution_count": null,
   "metadata": {},
   "outputs": [],
   "source": [
    "\n"
   ]
  },
  {
   "cell_type": "code",
   "execution_count": null,
   "metadata": {},
   "outputs": [],
   "source": []
  }
 ],
 "metadata": {
  "kernelspec": {
   "display_name": "Python 3",
   "language": "python",
   "name": "python3"
  },
  "language_info": {
   "codemirror_mode": {
    "name": "ipython",
    "version": 3
   },
   "file_extension": ".py",
   "mimetype": "text/x-python",
   "name": "python",
   "nbconvert_exporter": "python",
   "pygments_lexer": "ipython3",
   "version": "3.8.5"
  }
 },
 "nbformat": 4,
 "nbformat_minor": 2
}
