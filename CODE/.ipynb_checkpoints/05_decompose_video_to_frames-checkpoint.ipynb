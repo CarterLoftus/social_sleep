{
 "cells": [
  {
   "cell_type": "code",
   "execution_count": null,
   "metadata": {},
   "outputs": [],
   "source": [
    "!pip install decord"
   ]
  },
  {
   "cell_type": "code",
   "execution_count": null,
   "metadata": {},
   "outputs": [],
   "source": [
    "!pip install --upgrade pip setuptools wheel"
   ]
  },
  {
   "cell_type": "markdown",
   "metadata": {},
   "source": [
    "In the ribbon above, select 'Kernel', 'Restart'. The kernel will then restart and then you can continue on to run the next cell"
   ]
  },
  {
   "cell_type": "code",
   "execution_count": null,
   "metadata": {},
   "outputs": [],
   "source": [
    "!pip install opencv-python"
   ]
  },
  {
   "cell_type": "markdown",
   "metadata": {},
   "source": [
    "The above lines only need to be run once. After you run them once, you can start every time from the following cell"
   ]
  },
  {
   "cell_type": "code",
   "execution_count": 13,
   "metadata": {},
   "outputs": [],
   "source": [
    "import subprocess\n",
    "import os\n",
    "import glob\n",
    "import sys\n",
    "import time\n",
    "import subprocess\n",
    "import pandas as pd\n",
    "import tqdm\n",
    "import numpy as np\n",
    "\n",
    "import os\n",
    "from decord import VideoReader, cpu, gpu\n",
    "import cv2\n",
    "import subprocess as sp\n",
    "import tqdm"
   ]
  },
  {
   "cell_type": "code",
   "execution_count": 14,
   "metadata": {},
   "outputs": [],
   "source": [
    "# input video file path\n",
    "input_video_file = 'Z:/baboon/archive/processed/video/thermal/2019_summer/cliff_data/mp4_files/viewpoint_1/T1020/20190804/20190804_213009750000.mp4'\n",
    "\n",
    "\n",
    "\n",
    "# provide a file path for the temporary images that will be created from the videos\n",
    "images_folder = \"C:/Users/meerkat/Documents/social_sleep/DATA/frames_for_stitching/\"\n"
   ]
  },
  {
   "cell_type": "code",
   "execution_count": 15,
   "metadata": {},
   "outputs": [],
   "source": [
    "vid_name = os.path.split( input_video_file )[ 1 ].split( '.' )[ 0 ]"
   ]
  },
  {
   "cell_type": "code",
   "execution_count": 16,
   "metadata": {},
   "outputs": [],
   "source": [
    "class struct:\n",
    "    pass\n",
    "\n",
    "## instantiate metadata\n",
    "metadata = struct()\n",
    "\n",
    "## this will use a folder that has all the images that will be turned into the video\n",
    "metadata.folder_images = images_folder\n"
   ]
  },
  {
   "cell_type": "code",
   "execution_count": 17,
   "metadata": {},
   "outputs": [],
   "source": [
    "\n",
    "## delete images that may already be in the folder where we are going to save our frames to\n",
    "\n",
    "if os.path.isdir( metadata.folder_images ):\n",
    "\n",
    "    files_in_directory = os.listdir(metadata.folder_images) # make a list of the image files of the frames from the input video\n",
    "\n",
    "    filtered_files = [file for file in files_in_directory if file.endswith('.jpg')] # filter these to make sure they are the images (i.e. end with a 'jpg')\n",
    "\n",
    "\n",
    "    for file in filtered_files:\n",
    "\n",
    "        path_to_file = os.path.join(metadata.folder_images, file)\n",
    "\n",
    "        os.remove(path_to_file)"
   ]
  },
  {
   "cell_type": "code",
   "execution_count": 18,
   "metadata": {},
   "outputs": [
    {
     "name": "stdout",
     "output_type": "stream",
     "text": [
      "18003\n"
     ]
    }
   ],
   "source": [
    "\n",
    "###### extracting frames from input video #######\n",
    "\n",
    "overwrite = True\n",
    "\n",
    "# enter the interval of frames from the input videos that you would like to extract (interval = 1 means each frame will be used for tracking)\n",
    "image_interval = 1 ## image_interval is the step length between each frame to extract from the video. every = 1 pulls out every frame. every = 2 pulls out every other frame, etc.\n",
    "\n",
    "## set the start and end frames to be extracted from the input video. This makes it so we can limit the frames on which we do tracking to a certain part of the video. -1 means the whole video\n",
    "start= -1\n",
    "end= -1\n",
    "\n",
    "#### the following lines of code extract all the frames from the input video\n",
    "\n",
    "## not really sure what the os.path.join does here, but this just sets up the folder where the images will be extracted to\n",
    "os.makedirs( ( os.path.join( metadata.folder_images ) ), exist_ok=True )\n",
    "\n",
    "assert os.path.exists( input_video_file )  # assert the video file exists\n",
    "\n",
    "# load the VideoReader\n",
    "vr = VideoReader( input_video_file, ctx = cpu(0) )  # can set to cpu or gpu .. ctx=gpu(0)\n",
    "\n",
    "if start < 0:  # if start isn't specified lets assume 0\n",
    "    start = 0\n",
    "if end < 0:  # if end isn't specified assume the end of the video\n",
    "    end = len(vr)\n",
    "\n",
    "## you can change every to be image_interval everywhere below if you want\n",
    "every = image_interval\n",
    "\n",
    "## make a list of the frame indices that we will pull out from the video (this is every frame when every = 1 )\n",
    "frames_list = list(range(start, end, every ) )\n",
    "\n",
    "## start a counter of the number of images that are saved (why can't this be inferred from the length of frames_list?)\n",
    "saved_count = 0\n",
    "\n",
    "if every > 50 and len(frames_list) < 1000:  # this is faster for every > 25 frames and can fit in memory\n",
    "\n",
    "    frames = vr.get_batch(frames_list).asnumpy() ## pull out all the relevant frames as numpy arrays, in a single operation \n",
    "\n",
    "    for index, frame in zip(frames_list, frames):  # loop through the frames. For each frame...\n",
    "\n",
    "        save_path = os.path.join( metadata.folder_images, \"{:06d}.jpg\".format(index))  # create the save path. This will save each frame as a JPG with a 6 digit number as a file name (which indicates which frame in the original video it was) in the image folder input above\n",
    "\n",
    "        if not os.path.exists(save_path) or overwrite:  # if it doesn't exist or we want to overwrite anyways\n",
    "\n",
    "            cv2.imwrite(save_path, cv2.cvtColor(frame, cv2.COLOR_RGB2BGR))  # save the extracted image\n",
    "\n",
    "            saved_count += 1  # increment our counter by one\n",
    "\n",
    "else:  # this is faster for every <25 and consumes small memory\n",
    "\n",
    "    try:\n",
    "        \n",
    "        for index in frames_list:  # lets loop through the frames until the end\n",
    "\n",
    "            ## why can't the line above just read: for index in frames_list: ?? (it was for index in range( start, end )  Then we don't have to set the if statement below\n",
    "\n",
    "            frame = vr[ index ]  # read an image from the capture\n",
    "\n",
    "            # this shouldn't be needad anymore with my adjustment above... if index % every == 0:  # if this is a frame we want to write out based on the 'every' argument\n",
    "\n",
    "            save_path = os.path.join( metadata.folder_images, \"{:06d}.jpg\".format(index))  # create the save path. This will save each frame as a JPG with a 6 digit number as a file name (which indicates which frame in the original video it was) in the image folder input above\n",
    "\n",
    "            if not os.path.exists( save_path ) or overwrite:  # if it doesn't exist or we want to overwrite anyways\n",
    "\n",
    "                cv2.imwrite(save_path, cv2.cvtColor(frame.asnumpy(), cv2.COLOR_RGB2BGR))  # save the extracted image\n",
    "\n",
    "                saved_count += 1  # increment our counter by one\n",
    "                \n",
    "    except:\n",
    "           \n",
    "        frames = vr.get_batch(frames_list).asnumpy()\n",
    "        \n",
    "        for index, frame in zip(frames_list, frames):  # loop through the frames. For each frame...\n",
    "\n",
    "                save_path = os.path.join( metadata.folder_images, \"{:06d}.jpg\".format(index))  # create the save path. This will save each frame as a JPG with a 6 digit number as a file name (which indicates which frame in the original video it was) in the image folder input above\n",
    "\n",
    "                if not os.path.exists(save_path) or overwrite:  # if it doesn't exist or we want to overwrite anyways\n",
    "\n",
    "                    cv2.imwrite(save_path, cv2.cvtColor(frame, cv2.COLOR_RGB2BGR))  # save the extracted image\n",
    "\n",
    "                    saved_count += 1  # increment our counter by one\n",
    "                    \n",
    "print( saved_count )  # and return the count of the images we saved\n",
    "\n",
    "# training"
   ]
  },
  {
   "cell_type": "code",
   "execution_count": null,
   "metadata": {},
   "outputs": [],
   "source": []
  },
  {
   "cell_type": "code",
   "execution_count": null,
   "metadata": {},
   "outputs": [],
   "source": []
  }
 ],
 "metadata": {
  "kernelspec": {
   "display_name": "Python 3",
   "language": "python",
   "name": "python3"
  },
  "language_info": {
   "codemirror_mode": {
    "name": "ipython",
    "version": 3
   },
   "file_extension": ".py",
   "mimetype": "text/x-python",
   "name": "python",
   "nbconvert_exporter": "python",
   "pygments_lexer": "ipython3",
   "version": "3.8.5"
  }
 },
 "nbformat": 4,
 "nbformat_minor": 2
}
